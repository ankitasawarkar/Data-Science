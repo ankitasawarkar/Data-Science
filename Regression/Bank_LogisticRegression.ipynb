{
  "cells": [
    {
      "cell_type": "markdown",
      "source": [
        "# **A Logistic Regression in Python**\n",
        "\n",
        "**Logistic Regression** is a Machine Learning classification algorithm that is used to predict the probability of a categorical dependent variable. In logistic regression, the dependent variable is a binary variable that contains data coded as 1 (yes, success, etc.) or 0 (no, failure, etc.). In other words, the logistic regression model predicts P(Y=1) as a function of X.\n",
        "\n",
        "**Logistic Regression Assumptions**\n",
        "- *Binary logistic regression requires the dependent variable to be binary.*\n",
        "- *For a binary regression, the factor level 1 of the dependent variable should represent the desired outcome.*\n",
        "- *Only the meaningful variables should be included.*\n",
        "- *The independent variables should be independent of each other. That is, the model should have little or no multicollinearity.*\n",
        "- *The independent variables are linearly related to the log odds.*\n",
        "- *Logistic regression requires quite large sample sizes.* \n",
        "\n",
        "Keeping the above assumptions in mind, let’s look at our dataset.\n",
        "\n",
        "**Data**\n",
        "The dataset is related to direct marketing campaigns (phone calls) of a Portuguese banking institution. The classification goal is to predict whether the client will subscribe (1/0) to a term deposit (variable y)."
      ],
      "metadata": {
        "id": "JTYtMthbe1Bz"
      },
      "id": "JTYtMthbe1Bz"
    },
    {
      "cell_type": "markdown",
      "source": [
        "**Input variables**\n",
        "\n",
        "1. age (numeric)\n",
        "2. job : type of job (categorical: “admin”, “blue-collar”, “entrepreneur”, “housemaid”, “management”, “retired”, “self-employed”, “services”, “student”, “technician”, “unemployed”, “unknown”)\n",
        "3. marital : marital status (categorical: “divorced”, “married”, “single”, “unknown”)\n",
        "4. education (categorical: “basic.4y”, “basic.6y”, “basic.9y”, “high.school”, “illiterate”, “professional.course”, “university.degree”, “unknown”)\n",
        "5. default: has credit in default? (categorical: “no”, “yes”, “unknown”)\n",
        "6. housing: has housing loan? (categorical: “no”, “yes”, “unknown”)\n",
        "7. loan: has personal loan? (categorical: “no”, “yes”, “unknown”)\n",
        "8. contact: contact communication type (categorical: “cellular”, “telephone”)\n",
        "9. month: last contact month of year (categorical: “jan”, “feb”, “mar”, …, “nov”, “dec”)\n",
        "10. day_of_week: last contact day of the week (categorical: “mon”, “tue”, “wed”, “thu”, “fri”)\n",
        "11. duration: last contact duration, in seconds (numeric). Important note: this attribute highly affects the output target (e.g., if duration=0 then y=’no’). The duration is not known before a call is performed, also, after the end of the call, y is obviously known. Thus, this input should only be included for benchmark purposes and should be discarded if the intention is to have a realistic predictive model\n",
        "12. campaign: number of contacts performed during this campaign and for this client (numeric, includes last contact)\n",
        "13. pdays: number of days that passed by after the client was last contacted from a previous campaign (numeric; 999 means client was not previously contacted)\n",
        "14. previous: number of contacts performed before this campaign and for this client (numeric)\n",
        "15. poutcome: outcome of the previous marketing campaign (categorical: “failure”, “nonexistent”, “success”)\n",
        "16. emp.var.rate: employment variation rate — (numeric)\n",
        "17. cons.price.idx: consumer price index — (numeric)\n",
        "18. cons.conf.idx: consumer confidence index — (numeric)\n",
        "19. euribor3m: euribor 3 month rate — (numeric)\n",
        "20. nr.employed: number of employees — (numeric)"
      ],
      "metadata": {
        "id": "heA4CYfsfAN0"
      },
      "id": "heA4CYfsfAN0"
    },
    {
      "cell_type": "code",
      "execution_count": null,
      "id": "14f910f5",
      "metadata": {
        "id": "14f910f5"
      },
      "outputs": [],
      "source": [
        "#Agenda\n",
        "    #implementation of Logistic Regression Model\n",
        "    #EDA\n",
        "    #Feature Selection  \n",
        "    #Model building\n",
        "    #Accuracy"
      ]
    },
    {
      "cell_type": "code",
      "execution_count": null,
      "id": "feaafffe",
      "metadata": {
        "id": "feaafffe"
      },
      "outputs": [],
      "source": [
        "#EDA\n",
        "    #exploratory data analysis\n",
        "        #missing value analysis\n",
        "        #outlier analysis"
      ]
    },
    {
      "cell_type": "code",
      "execution_count": null,
      "id": "15510bb7",
      "metadata": {
        "id": "15510bb7"
      },
      "outputs": [],
      "source": [
        "#importing data\n",
        "import pandas as pd\n",
        "import numpy as np\n",
        "import matplotlib.pyplot as plt"
      ]
    },
    {
      "cell_type": "code",
      "execution_count": null,
      "id": "405fd2af",
      "metadata": {
        "id": "405fd2af"
      },
      "outputs": [],
      "source": [
        "data = pd.read_csv('bank-additional.csv', sep = ';')\n",
        "data2 = pd.read_csv('bank-additional.csv', sep = ';')"
      ]
    },
    {
      "cell_type": "code",
      "execution_count": null,
      "id": "be46fbf9",
      "metadata": {
        "id": "be46fbf9",
        "outputId": "098dba4c-0f5a-4574-be58-57568d6885b3"
      },
      "outputs": [
        {
          "data": {
            "text/html": [
              "<div>\n",
              "<style scoped>\n",
              "    .dataframe tbody tr th:only-of-type {\n",
              "        vertical-align: middle;\n",
              "    }\n",
              "\n",
              "    .dataframe tbody tr th {\n",
              "        vertical-align: top;\n",
              "    }\n",
              "\n",
              "    .dataframe thead th {\n",
              "        text-align: right;\n",
              "    }\n",
              "</style>\n",
              "<table border=\"1\" class=\"dataframe\">\n",
              "  <thead>\n",
              "    <tr style=\"text-align: right;\">\n",
              "      <th></th>\n",
              "      <th>age</th>\n",
              "      <th>job</th>\n",
              "      <th>marital</th>\n",
              "      <th>education</th>\n",
              "      <th>default</th>\n",
              "      <th>housing</th>\n",
              "      <th>loan</th>\n",
              "      <th>contact</th>\n",
              "      <th>month</th>\n",
              "      <th>day_of_week</th>\n",
              "      <th>...</th>\n",
              "      <th>campaign</th>\n",
              "      <th>pdays</th>\n",
              "      <th>previous</th>\n",
              "      <th>poutcome</th>\n",
              "      <th>emp.var.rate</th>\n",
              "      <th>cons.price.idx</th>\n",
              "      <th>cons.conf.idx</th>\n",
              "      <th>euribor3m</th>\n",
              "      <th>nr.employed</th>\n",
              "      <th>y</th>\n",
              "    </tr>\n",
              "  </thead>\n",
              "  <tbody>\n",
              "    <tr>\n",
              "      <th>0</th>\n",
              "      <td>56.0</td>\n",
              "      <td>housemaid</td>\n",
              "      <td>married</td>\n",
              "      <td>basic.4y</td>\n",
              "      <td>no</td>\n",
              "      <td>no</td>\n",
              "      <td>no</td>\n",
              "      <td>telephone</td>\n",
              "      <td>may</td>\n",
              "      <td>mon</td>\n",
              "      <td>...</td>\n",
              "      <td>1.0</td>\n",
              "      <td>999.0</td>\n",
              "      <td>0.0</td>\n",
              "      <td>nonexistent</td>\n",
              "      <td>1.1</td>\n",
              "      <td>93.994</td>\n",
              "      <td>-36.4</td>\n",
              "      <td>4.857</td>\n",
              "      <td>5191.0</td>\n",
              "      <td>no</td>\n",
              "    </tr>\n",
              "    <tr>\n",
              "      <th>1</th>\n",
              "      <td>57.0</td>\n",
              "      <td>services</td>\n",
              "      <td>married</td>\n",
              "      <td>high.school</td>\n",
              "      <td>unknown</td>\n",
              "      <td>no</td>\n",
              "      <td>no</td>\n",
              "      <td>telephone</td>\n",
              "      <td>may</td>\n",
              "      <td>mon</td>\n",
              "      <td>...</td>\n",
              "      <td>1.0</td>\n",
              "      <td>999.0</td>\n",
              "      <td>0.0</td>\n",
              "      <td>nonexistent</td>\n",
              "      <td>1.1</td>\n",
              "      <td>93.994</td>\n",
              "      <td>-36.4</td>\n",
              "      <td>4.857</td>\n",
              "      <td>5191.0</td>\n",
              "      <td>no</td>\n",
              "    </tr>\n",
              "    <tr>\n",
              "      <th>2</th>\n",
              "      <td>37.0</td>\n",
              "      <td>services</td>\n",
              "      <td>married</td>\n",
              "      <td>high.school</td>\n",
              "      <td>no</td>\n",
              "      <td>yes</td>\n",
              "      <td>no</td>\n",
              "      <td>telephone</td>\n",
              "      <td>may</td>\n",
              "      <td>mon</td>\n",
              "      <td>...</td>\n",
              "      <td>1.0</td>\n",
              "      <td>999.0</td>\n",
              "      <td>0.0</td>\n",
              "      <td>nonexistent</td>\n",
              "      <td>1.1</td>\n",
              "      <td>93.994</td>\n",
              "      <td>-36.4</td>\n",
              "      <td>4.857</td>\n",
              "      <td>5191.0</td>\n",
              "      <td>no</td>\n",
              "    </tr>\n",
              "    <tr>\n",
              "      <th>3</th>\n",
              "      <td>40.0</td>\n",
              "      <td>admin.</td>\n",
              "      <td>married</td>\n",
              "      <td>basic.6y</td>\n",
              "      <td>no</td>\n",
              "      <td>no</td>\n",
              "      <td>no</td>\n",
              "      <td>telephone</td>\n",
              "      <td>may</td>\n",
              "      <td>mon</td>\n",
              "      <td>...</td>\n",
              "      <td>1.0</td>\n",
              "      <td>999.0</td>\n",
              "      <td>0.0</td>\n",
              "      <td>nonexistent</td>\n",
              "      <td>1.1</td>\n",
              "      <td>93.994</td>\n",
              "      <td>-36.4</td>\n",
              "      <td>4.857</td>\n",
              "      <td>5191.0</td>\n",
              "      <td>no</td>\n",
              "    </tr>\n",
              "    <tr>\n",
              "      <th>4</th>\n",
              "      <td>56.0</td>\n",
              "      <td>services</td>\n",
              "      <td>married</td>\n",
              "      <td>high.school</td>\n",
              "      <td>no</td>\n",
              "      <td>no</td>\n",
              "      <td>yes</td>\n",
              "      <td>telephone</td>\n",
              "      <td>may</td>\n",
              "      <td>mon</td>\n",
              "      <td>...</td>\n",
              "      <td>1.0</td>\n",
              "      <td>999.0</td>\n",
              "      <td>0.0</td>\n",
              "      <td>nonexistent</td>\n",
              "      <td>1.1</td>\n",
              "      <td>93.994</td>\n",
              "      <td>-36.4</td>\n",
              "      <td>4.857</td>\n",
              "      <td>5191.0</td>\n",
              "      <td>no</td>\n",
              "    </tr>\n",
              "  </tbody>\n",
              "</table>\n",
              "<p>5 rows × 21 columns</p>\n",
              "</div>"
            ],
            "text/plain": [
              "    age        job  marital    education  default housing loan    contact  \\\n",
              "0  56.0  housemaid  married     basic.4y       no      no   no  telephone   \n",
              "1  57.0   services  married  high.school  unknown      no   no  telephone   \n",
              "2  37.0   services  married  high.school       no     yes   no  telephone   \n",
              "3  40.0     admin.  married     basic.6y       no      no   no  telephone   \n",
              "4  56.0   services  married  high.school       no      no  yes  telephone   \n",
              "\n",
              "  month day_of_week  ...  campaign  pdays  previous     poutcome emp.var.rate  \\\n",
              "0   may         mon  ...       1.0  999.0       0.0  nonexistent          1.1   \n",
              "1   may         mon  ...       1.0  999.0       0.0  nonexistent          1.1   \n",
              "2   may         mon  ...       1.0  999.0       0.0  nonexistent          1.1   \n",
              "3   may         mon  ...       1.0  999.0       0.0  nonexistent          1.1   \n",
              "4   may         mon  ...       1.0  999.0       0.0  nonexistent          1.1   \n",
              "\n",
              "   cons.price.idx  cons.conf.idx  euribor3m  nr.employed   y  \n",
              "0          93.994          -36.4      4.857       5191.0  no  \n",
              "1          93.994          -36.4      4.857       5191.0  no  \n",
              "2          93.994          -36.4      4.857       5191.0  no  \n",
              "3          93.994          -36.4      4.857       5191.0  no  \n",
              "4          93.994          -36.4      4.857       5191.0  no  \n",
              "\n",
              "[5 rows x 21 columns]"
            ]
          },
          "execution_count": 5,
          "metadata": {},
          "output_type": "execute_result"
        }
      ],
      "source": [
        "data.head()"
      ]
    },
    {
      "cell_type": "code",
      "execution_count": null,
      "id": "136645ac",
      "metadata": {
        "id": "136645ac",
        "outputId": "00965074-b7c6-4417-aca9-5a14f548e293"
      },
      "outputs": [
        {
          "data": {
            "text/plain": [
              "admin.           10422\n",
              "blue-collar       9254\n",
              "technician        6743\n",
              "services          3969\n",
              "management        2924\n",
              "retired           1726\n",
              "entrepreneur      1456\n",
              "self-employed     1421\n",
              "housemaid         1060\n",
              "unemployed        1014\n",
              "student            875\n",
              "unknown            330\n",
              "Name: job, dtype: int64"
            ]
          },
          "execution_count": 6,
          "metadata": {},
          "output_type": "execute_result"
        }
      ],
      "source": [
        "data.job.value_counts()"
      ]
    },
    {
      "cell_type": "code",
      "execution_count": null,
      "id": "8f57e69e",
      "metadata": {
        "id": "8f57e69e",
        "outputId": "9eb63e42-4347-4608-8b78-e7fdb95fb6fc"
      },
      "outputs": [
        {
          "data": {
            "text/html": [
              "<div>\n",
              "<style scoped>\n",
              "    .dataframe tbody tr th:only-of-type {\n",
              "        vertical-align: middle;\n",
              "    }\n",
              "\n",
              "    .dataframe tbody tr th {\n",
              "        vertical-align: top;\n",
              "    }\n",
              "\n",
              "    .dataframe thead th {\n",
              "        text-align: right;\n",
              "    }\n",
              "</style>\n",
              "<table border=\"1\" class=\"dataframe\">\n",
              "  <thead>\n",
              "    <tr style=\"text-align: right;\">\n",
              "      <th></th>\n",
              "      <th>age</th>\n",
              "      <th>duration</th>\n",
              "      <th>campaign</th>\n",
              "      <th>pdays</th>\n",
              "      <th>previous</th>\n",
              "      <th>emp.var.rate</th>\n",
              "      <th>cons.price.idx</th>\n",
              "      <th>cons.conf.idx</th>\n",
              "      <th>euribor3m</th>\n",
              "      <th>nr.employed</th>\n",
              "    </tr>\n",
              "  </thead>\n",
              "  <tbody>\n",
              "    <tr>\n",
              "      <th>count</th>\n",
              "      <td>41195.000000</td>\n",
              "      <td>41196.000000</td>\n",
              "      <td>41196.000000</td>\n",
              "      <td>41196.000000</td>\n",
              "      <td>41196.000000</td>\n",
              "      <td>41196.000000</td>\n",
              "      <td>41195.000000</td>\n",
              "      <td>41196.000000</td>\n",
              "      <td>41196.000000</td>\n",
              "      <td>41196.000000</td>\n",
              "    </tr>\n",
              "    <tr>\n",
              "      <th>mean</th>\n",
              "      <td>40.030319</td>\n",
              "      <td>258.281265</td>\n",
              "      <td>2.567676</td>\n",
              "      <td>962.482547</td>\n",
              "      <td>0.173124</td>\n",
              "      <td>0.081656</td>\n",
              "      <td>93.575867</td>\n",
              "      <td>-40.504600</td>\n",
              "      <td>3.620787</td>\n",
              "      <td>5166.996405</td>\n",
              "    </tr>\n",
              "    <tr>\n",
              "      <th>std</th>\n",
              "      <td>10.431818</td>\n",
              "      <td>259.254211</td>\n",
              "      <td>2.769751</td>\n",
              "      <td>186.893451</td>\n",
              "      <td>0.494987</td>\n",
              "      <td>1.570894</td>\n",
              "      <td>0.578999</td>\n",
              "      <td>4.629972</td>\n",
              "      <td>1.734655</td>\n",
              "      <td>72.300104</td>\n",
              "    </tr>\n",
              "    <tr>\n",
              "      <th>min</th>\n",
              "      <td>17.000000</td>\n",
              "      <td>0.000000</td>\n",
              "      <td>1.000000</td>\n",
              "      <td>0.000000</td>\n",
              "      <td>0.000000</td>\n",
              "      <td>-3.400000</td>\n",
              "      <td>92.201000</td>\n",
              "      <td>-50.800000</td>\n",
              "      <td>0.634000</td>\n",
              "      <td>4963.600000</td>\n",
              "    </tr>\n",
              "    <tr>\n",
              "      <th>25%</th>\n",
              "      <td>32.000000</td>\n",
              "      <td>102.000000</td>\n",
              "      <td>1.000000</td>\n",
              "      <td>999.000000</td>\n",
              "      <td>0.000000</td>\n",
              "      <td>-1.800000</td>\n",
              "      <td>93.075000</td>\n",
              "      <td>-42.700000</td>\n",
              "      <td>1.344000</td>\n",
              "      <td>5099.100000</td>\n",
              "    </tr>\n",
              "    <tr>\n",
              "      <th>50%</th>\n",
              "      <td>38.000000</td>\n",
              "      <td>180.000000</td>\n",
              "      <td>2.000000</td>\n",
              "      <td>999.000000</td>\n",
              "      <td>0.000000</td>\n",
              "      <td>1.100000</td>\n",
              "      <td>93.749000</td>\n",
              "      <td>-41.800000</td>\n",
              "      <td>4.857000</td>\n",
              "      <td>5191.000000</td>\n",
              "    </tr>\n",
              "    <tr>\n",
              "      <th>75%</th>\n",
              "      <td>47.000000</td>\n",
              "      <td>319.000000</td>\n",
              "      <td>3.000000</td>\n",
              "      <td>999.000000</td>\n",
              "      <td>0.000000</td>\n",
              "      <td>1.400000</td>\n",
              "      <td>93.994000</td>\n",
              "      <td>-36.400000</td>\n",
              "      <td>4.961000</td>\n",
              "      <td>5228.100000</td>\n",
              "    </tr>\n",
              "    <tr>\n",
              "      <th>max</th>\n",
              "      <td>98.000000</td>\n",
              "      <td>4918.000000</td>\n",
              "      <td>56.000000</td>\n",
              "      <td>999.000000</td>\n",
              "      <td>7.000000</td>\n",
              "      <td>1.400000</td>\n",
              "      <td>94.767000</td>\n",
              "      <td>-26.900000</td>\n",
              "      <td>5.045000</td>\n",
              "      <td>5228.100000</td>\n",
              "    </tr>\n",
              "  </tbody>\n",
              "</table>\n",
              "</div>"
            ],
            "text/plain": [
              "                age      duration      campaign         pdays      previous  \\\n",
              "count  41195.000000  41196.000000  41196.000000  41196.000000  41196.000000   \n",
              "mean      40.030319    258.281265      2.567676    962.482547      0.173124   \n",
              "std       10.431818    259.254211      2.769751    186.893451      0.494987   \n",
              "min       17.000000      0.000000      1.000000      0.000000      0.000000   \n",
              "25%       32.000000    102.000000      1.000000    999.000000      0.000000   \n",
              "50%       38.000000    180.000000      2.000000    999.000000      0.000000   \n",
              "75%       47.000000    319.000000      3.000000    999.000000      0.000000   \n",
              "max       98.000000   4918.000000     56.000000    999.000000      7.000000   \n",
              "\n",
              "       emp.var.rate  cons.price.idx  cons.conf.idx     euribor3m   nr.employed  \n",
              "count  41196.000000    41195.000000   41196.000000  41196.000000  41196.000000  \n",
              "mean       0.081656       93.575867     -40.504600      3.620787   5166.996405  \n",
              "std        1.570894        0.578999       4.629972      1.734655     72.300104  \n",
              "min       -3.400000       92.201000     -50.800000      0.634000   4963.600000  \n",
              "25%       -1.800000       93.075000     -42.700000      1.344000   5099.100000  \n",
              "50%        1.100000       93.749000     -41.800000      4.857000   5191.000000  \n",
              "75%        1.400000       93.994000     -36.400000      4.961000   5228.100000  \n",
              "max        1.400000       94.767000     -26.900000      5.045000   5228.100000  "
            ]
          },
          "execution_count": 7,
          "metadata": {},
          "output_type": "execute_result"
        }
      ],
      "source": [
        "#name of function which provdies description about the data\n",
        "data.describe()"
      ]
    },
    {
      "cell_type": "code",
      "execution_count": null,
      "id": "84ad0016",
      "metadata": {
        "id": "84ad0016",
        "outputId": "6a1c76fb-249a-4d26-ca58-afd09d1fe31d"
      },
      "outputs": [
        {
          "data": {
            "text/plain": [
              "(41199, 21)"
            ]
          },
          "execution_count": 8,
          "metadata": {},
          "output_type": "execute_result"
        }
      ],
      "source": [
        "#fun which provides row and column numbers\n",
        "data.shape"
      ]
    },
    {
      "cell_type": "code",
      "execution_count": null,
      "id": "88c8ae0d",
      "metadata": {
        "id": "88c8ae0d",
        "outputId": "17aaa7be-733d-4d80-d09f-40b0e5d26a24"
      },
      "outputs": [
        {
          "data": {
            "text/plain": [
              "age               float64\n",
              "job                object\n",
              "marital            object\n",
              "education          object\n",
              "default            object\n",
              "housing            object\n",
              "loan               object\n",
              "contact            object\n",
              "month              object\n",
              "day_of_week        object\n",
              "duration          float64\n",
              "campaign          float64\n",
              "pdays             float64\n",
              "previous          float64\n",
              "poutcome           object\n",
              "emp.var.rate      float64\n",
              "cons.price.idx    float64\n",
              "cons.conf.idx     float64\n",
              "euribor3m         float64\n",
              "nr.employed       float64\n",
              "y                  object\n",
              "dtype: object"
            ]
          },
          "execution_count": 9,
          "metadata": {},
          "output_type": "execute_result"
        }
      ],
      "source": [
        "#fun name for checking data types\n",
        "data.dtypes"
      ]
    },
    {
      "cell_type": "code",
      "execution_count": null,
      "id": "c862f2a1",
      "metadata": {
        "id": "c862f2a1"
      },
      "outputs": [],
      "source": [
        "#changing data types\n",
        "data['y'] = np.where(data['y'] == 'yes',1,0)\n",
        "data['y'] = data['y'].astype(str)"
      ]
    },
    {
      "cell_type": "code",
      "execution_count": null,
      "id": "69057d8e",
      "metadata": {
        "id": "69057d8e",
        "outputId": "804ac789-51de-4eb9-dc85-5325579fd864"
      },
      "outputs": [
        {
          "data": {
            "text/plain": [
              "0    36559\n",
              "1     4640\n",
              "Name: y, dtype: int64"
            ]
          },
          "execution_count": 11,
          "metadata": {},
          "output_type": "execute_result"
        }
      ],
      "source": [
        "data2['y'] = np.where(data2['y'] == 'yes',1,0)\n",
        "data2['y'] = data['y'].astype(str)\n",
        "data2.y.value_counts()"
      ]
    },
    {
      "cell_type": "code",
      "execution_count": null,
      "id": "e0c66ef6",
      "metadata": {
        "id": "e0c66ef6",
        "outputId": "7f557fda-fd56-4dbc-f4e3-5471ddf4c52d"
      },
      "outputs": [
        {
          "data": {
            "text/html": [
              "<div>\n",
              "<style scoped>\n",
              "    .dataframe tbody tr th:only-of-type {\n",
              "        vertical-align: middle;\n",
              "    }\n",
              "\n",
              "    .dataframe tbody tr th {\n",
              "        vertical-align: top;\n",
              "    }\n",
              "\n",
              "    .dataframe thead th {\n",
              "        text-align: right;\n",
              "    }\n",
              "</style>\n",
              "<table border=\"1\" class=\"dataframe\">\n",
              "  <thead>\n",
              "    <tr style=\"text-align: right;\">\n",
              "      <th></th>\n",
              "      <th>age</th>\n",
              "      <th>job</th>\n",
              "      <th>marital</th>\n",
              "      <th>education</th>\n",
              "      <th>default</th>\n",
              "      <th>housing</th>\n",
              "      <th>loan</th>\n",
              "      <th>contact</th>\n",
              "      <th>month</th>\n",
              "      <th>day_of_week</th>\n",
              "      <th>...</th>\n",
              "      <th>campaign</th>\n",
              "      <th>pdays</th>\n",
              "      <th>previous</th>\n",
              "      <th>poutcome</th>\n",
              "      <th>emp.var.rate</th>\n",
              "      <th>cons.price.idx</th>\n",
              "      <th>cons.conf.idx</th>\n",
              "      <th>euribor3m</th>\n",
              "      <th>nr.employed</th>\n",
              "      <th>y</th>\n",
              "    </tr>\n",
              "  </thead>\n",
              "  <tbody>\n",
              "    <tr>\n",
              "      <th>0</th>\n",
              "      <td>56.0</td>\n",
              "      <td>housemaid</td>\n",
              "      <td>married</td>\n",
              "      <td>basic.4y</td>\n",
              "      <td>no</td>\n",
              "      <td>no</td>\n",
              "      <td>no</td>\n",
              "      <td>telephone</td>\n",
              "      <td>may</td>\n",
              "      <td>mon</td>\n",
              "      <td>...</td>\n",
              "      <td>1.0</td>\n",
              "      <td>999.0</td>\n",
              "      <td>0.0</td>\n",
              "      <td>nonexistent</td>\n",
              "      <td>1.1</td>\n",
              "      <td>93.994</td>\n",
              "      <td>-36.4</td>\n",
              "      <td>4.857</td>\n",
              "      <td>5191.0</td>\n",
              "      <td>0</td>\n",
              "    </tr>\n",
              "    <tr>\n",
              "      <th>1</th>\n",
              "      <td>57.0</td>\n",
              "      <td>services</td>\n",
              "      <td>married</td>\n",
              "      <td>high.school</td>\n",
              "      <td>unknown</td>\n",
              "      <td>no</td>\n",
              "      <td>no</td>\n",
              "      <td>telephone</td>\n",
              "      <td>may</td>\n",
              "      <td>mon</td>\n",
              "      <td>...</td>\n",
              "      <td>1.0</td>\n",
              "      <td>999.0</td>\n",
              "      <td>0.0</td>\n",
              "      <td>nonexistent</td>\n",
              "      <td>1.1</td>\n",
              "      <td>93.994</td>\n",
              "      <td>-36.4</td>\n",
              "      <td>4.857</td>\n",
              "      <td>5191.0</td>\n",
              "      <td>0</td>\n",
              "    </tr>\n",
              "    <tr>\n",
              "      <th>2</th>\n",
              "      <td>37.0</td>\n",
              "      <td>services</td>\n",
              "      <td>married</td>\n",
              "      <td>high.school</td>\n",
              "      <td>no</td>\n",
              "      <td>yes</td>\n",
              "      <td>no</td>\n",
              "      <td>telephone</td>\n",
              "      <td>may</td>\n",
              "      <td>mon</td>\n",
              "      <td>...</td>\n",
              "      <td>1.0</td>\n",
              "      <td>999.0</td>\n",
              "      <td>0.0</td>\n",
              "      <td>nonexistent</td>\n",
              "      <td>1.1</td>\n",
              "      <td>93.994</td>\n",
              "      <td>-36.4</td>\n",
              "      <td>4.857</td>\n",
              "      <td>5191.0</td>\n",
              "      <td>0</td>\n",
              "    </tr>\n",
              "    <tr>\n",
              "      <th>3</th>\n",
              "      <td>40.0</td>\n",
              "      <td>admin.</td>\n",
              "      <td>married</td>\n",
              "      <td>basic.6y</td>\n",
              "      <td>no</td>\n",
              "      <td>no</td>\n",
              "      <td>no</td>\n",
              "      <td>telephone</td>\n",
              "      <td>may</td>\n",
              "      <td>mon</td>\n",
              "      <td>...</td>\n",
              "      <td>1.0</td>\n",
              "      <td>999.0</td>\n",
              "      <td>0.0</td>\n",
              "      <td>nonexistent</td>\n",
              "      <td>1.1</td>\n",
              "      <td>93.994</td>\n",
              "      <td>-36.4</td>\n",
              "      <td>4.857</td>\n",
              "      <td>5191.0</td>\n",
              "      <td>0</td>\n",
              "    </tr>\n",
              "    <tr>\n",
              "      <th>4</th>\n",
              "      <td>56.0</td>\n",
              "      <td>services</td>\n",
              "      <td>married</td>\n",
              "      <td>high.school</td>\n",
              "      <td>no</td>\n",
              "      <td>no</td>\n",
              "      <td>yes</td>\n",
              "      <td>telephone</td>\n",
              "      <td>may</td>\n",
              "      <td>mon</td>\n",
              "      <td>...</td>\n",
              "      <td>1.0</td>\n",
              "      <td>999.0</td>\n",
              "      <td>0.0</td>\n",
              "      <td>nonexistent</td>\n",
              "      <td>1.1</td>\n",
              "      <td>93.994</td>\n",
              "      <td>-36.4</td>\n",
              "      <td>4.857</td>\n",
              "      <td>5191.0</td>\n",
              "      <td>0</td>\n",
              "    </tr>\n",
              "  </tbody>\n",
              "</table>\n",
              "<p>5 rows × 21 columns</p>\n",
              "</div>"
            ],
            "text/plain": [
              "    age        job  marital    education  default housing loan    contact  \\\n",
              "0  56.0  housemaid  married     basic.4y       no      no   no  telephone   \n",
              "1  57.0   services  married  high.school  unknown      no   no  telephone   \n",
              "2  37.0   services  married  high.school       no     yes   no  telephone   \n",
              "3  40.0     admin.  married     basic.6y       no      no   no  telephone   \n",
              "4  56.0   services  married  high.school       no      no  yes  telephone   \n",
              "\n",
              "  month day_of_week  ...  campaign  pdays  previous     poutcome emp.var.rate  \\\n",
              "0   may         mon  ...       1.0  999.0       0.0  nonexistent          1.1   \n",
              "1   may         mon  ...       1.0  999.0       0.0  nonexistent          1.1   \n",
              "2   may         mon  ...       1.0  999.0       0.0  nonexistent          1.1   \n",
              "3   may         mon  ...       1.0  999.0       0.0  nonexistent          1.1   \n",
              "4   may         mon  ...       1.0  999.0       0.0  nonexistent          1.1   \n",
              "\n",
              "   cons.price.idx  cons.conf.idx  euribor3m  nr.employed  y  \n",
              "0          93.994          -36.4      4.857       5191.0  0  \n",
              "1          93.994          -36.4      4.857       5191.0  0  \n",
              "2          93.994          -36.4      4.857       5191.0  0  \n",
              "3          93.994          -36.4      4.857       5191.0  0  \n",
              "4          93.994          -36.4      4.857       5191.0  0  \n",
              "\n",
              "[5 rows x 21 columns]"
            ]
          },
          "execution_count": 12,
          "metadata": {},
          "output_type": "execute_result"
        }
      ],
      "source": [
        "data.head()"
      ]
    },
    {
      "cell_type": "code",
      "execution_count": null,
      "id": "7f4c8a35",
      "metadata": {
        "id": "7f4c8a35",
        "outputId": "309d13d3-7a86-4110-9630-877c2a938fd1"
      },
      "outputs": [
        {
          "data": {
            "text/plain": [
              "age               4\n",
              "job               5\n",
              "marital           5\n",
              "education         5\n",
              "default           4\n",
              "housing           3\n",
              "loan              4\n",
              "contact           4\n",
              "month             3\n",
              "day_of_week       3\n",
              "duration          3\n",
              "campaign          3\n",
              "pdays             3\n",
              "previous          3\n",
              "poutcome          5\n",
              "emp.var.rate      3\n",
              "cons.price.idx    4\n",
              "cons.conf.idx     3\n",
              "euribor3m         3\n",
              "nr.employed       3\n",
              "y                 0\n",
              "dtype: int64"
            ]
          },
          "execution_count": 13,
          "metadata": {},
          "output_type": "execute_result"
        }
      ],
      "source": [
        "#Missing values analysis\n",
        "data.isnull().sum()"
      ]
    },
    {
      "cell_type": "code",
      "execution_count": null,
      "id": "393c91b1",
      "metadata": {
        "id": "393c91b1",
        "outputId": "65561f70-c558-47a9-ee2b-85d864e4977b"
      },
      "outputs": [
        {
          "name": "stdout",
          "output_type": "stream",
          "text": [
            "<class 'pandas.core.frame.DataFrame'>\n",
            "RangeIndex: 41199 entries, 0 to 41198\n",
            "Data columns (total 21 columns):\n",
            " #   Column          Non-Null Count  Dtype  \n",
            "---  ------          --------------  -----  \n",
            " 0   age             41195 non-null  float64\n",
            " 1   job             41194 non-null  object \n",
            " 2   marital         41194 non-null  object \n",
            " 3   education       41194 non-null  object \n",
            " 4   default         41195 non-null  object \n",
            " 5   housing         41196 non-null  object \n",
            " 6   loan            41195 non-null  object \n",
            " 7   contact         41195 non-null  object \n",
            " 8   month           41196 non-null  object \n",
            " 9   day_of_week     41196 non-null  object \n",
            " 10  duration        41196 non-null  float64\n",
            " 11  campaign        41196 non-null  float64\n",
            " 12  pdays           41196 non-null  float64\n",
            " 13  previous        41196 non-null  float64\n",
            " 14  poutcome        41194 non-null  object \n",
            " 15  emp.var.rate    41196 non-null  float64\n",
            " 16  cons.price.idx  41195 non-null  float64\n",
            " 17  cons.conf.idx   41196 non-null  float64\n",
            " 18  euribor3m       41196 non-null  float64\n",
            " 19  nr.employed     41196 non-null  float64\n",
            " 20  y               41199 non-null  object \n",
            "dtypes: float64(10), object(11)\n",
            "memory usage: 6.6+ MB\n"
          ]
        }
      ],
      "source": [
        "data.info()"
      ]
    },
    {
      "cell_type": "code",
      "execution_count": null,
      "id": "e4408f0f",
      "metadata": {
        "id": "e4408f0f"
      },
      "outputs": [],
      "source": [
        "#list of columns of data\n",
        "col_list = list(data.columns)"
      ]
    },
    {
      "cell_type": "code",
      "execution_count": null,
      "id": "fd38b0c5",
      "metadata": {
        "id": "fd38b0c5"
      },
      "outputs": [],
      "source": [
        "col_list.remove('y')"
      ]
    },
    {
      "cell_type": "code",
      "execution_count": null,
      "id": "d41c0ca0",
      "metadata": {
        "id": "d41c0ca0",
        "outputId": "1fbb3c69-a6bf-4c0f-8725-0d11c70bc389"
      },
      "outputs": [
        {
          "data": {
            "text/plain": [
              "['age',\n",
              " 'job',\n",
              " 'marital',\n",
              " 'education',\n",
              " 'default',\n",
              " 'housing',\n",
              " 'loan',\n",
              " 'contact',\n",
              " 'month',\n",
              " 'day_of_week',\n",
              " 'duration',\n",
              " 'campaign',\n",
              " 'pdays',\n",
              " 'previous',\n",
              " 'poutcome',\n",
              " 'emp.var.rate',\n",
              " 'cons.price.idx',\n",
              " 'cons.conf.idx',\n",
              " 'euribor3m',\n",
              " 'nr.employed']"
            ]
          },
          "execution_count": 17,
          "metadata": {},
          "output_type": "execute_result"
        }
      ],
      "source": [
        "col_list"
      ]
    },
    {
      "cell_type": "code",
      "execution_count": null,
      "id": "a8b33c33",
      "metadata": {
        "id": "a8b33c33"
      },
      "outputs": [],
      "source": [
        "#Replacing missing values in dataset\n",
        "    #if datatype == object :\n",
        "        #mode\n",
        "    #else \n",
        "        #mean"
      ]
    },
    {
      "cell_type": "code",
      "execution_count": null,
      "id": "213abb77",
      "metadata": {
        "id": "213abb77",
        "outputId": "cc56ce85-878e-45d0-c6ec-01b4b573d11f"
      },
      "outputs": [
        {
          "data": {
            "text/plain": [
              "'admin.'"
            ]
          },
          "execution_count": 19,
          "metadata": {},
          "output_type": "execute_result"
        }
      ],
      "source": [
        "#access mode of a column\n",
        "data['job'].mode()[0]"
      ]
    },
    {
      "cell_type": "code",
      "execution_count": null,
      "id": "f053f19f",
      "metadata": {
        "id": "f053f19f",
        "outputId": "78729ac4-36d3-4da6-a9bb-77ae01b32db7"
      },
      "outputs": [
        {
          "data": {
            "text/plain": [
              "258.2812651713759"
            ]
          },
          "execution_count": 20,
          "metadata": {},
          "output_type": "execute_result"
        }
      ],
      "source": [
        "#access mean of a column\n",
        "data['duration'].mean()"
      ]
    },
    {
      "cell_type": "code",
      "execution_count": null,
      "id": "714dff2a",
      "metadata": {
        "id": "714dff2a"
      },
      "outputs": [],
      "source": [
        "#Replacing values in dataset\n",
        "for col_name in col_list:\n",
        "    if data[col_name].dtypes=='object':\n",
        "        data[col_name] = data[col_name].fillna(data[col_name].mode()[0])\n",
        "    else:\n",
        "        data[col_name] = data[col_name].fillna(data[col_name].mean())"
      ]
    },
    {
      "cell_type": "code",
      "execution_count": null,
      "id": "1ce6b3de",
      "metadata": {
        "id": "1ce6b3de",
        "outputId": "97992f9f-b6a7-4795-8425-c0f82157f3fc"
      },
      "outputs": [
        {
          "data": {
            "text/plain": [
              "age               0\n",
              "job               0\n",
              "marital           0\n",
              "education         0\n",
              "default           0\n",
              "housing           0\n",
              "loan              0\n",
              "contact           0\n",
              "month             0\n",
              "day_of_week       0\n",
              "duration          0\n",
              "campaign          0\n",
              "pdays             0\n",
              "previous          0\n",
              "poutcome          0\n",
              "emp.var.rate      0\n",
              "cons.price.idx    0\n",
              "cons.conf.idx     0\n",
              "euribor3m         0\n",
              "nr.employed       0\n",
              "y                 0\n",
              "dtype: int64"
            ]
          },
          "execution_count": 22,
          "metadata": {},
          "output_type": "execute_result"
        }
      ],
      "source": [
        "data.isnull().sum()"
      ]
    },
    {
      "cell_type": "code",
      "execution_count": null,
      "id": "72292bc9",
      "metadata": {
        "id": "72292bc9"
      },
      "outputs": [],
      "source": [
        "#outlier analysis\n",
        "    #outliers detection\n",
        "    #outlier removal"
      ]
    },
    {
      "cell_type": "code",
      "execution_count": null,
      "id": "38ffc153",
      "metadata": {
        "id": "38ffc153",
        "outputId": "b89d6f82-4d19-4e60-936b-a8c3b4737853"
      },
      "outputs": [
        {
          "data": {
            "image/png": "[encoded data removed]",
            "text/plain": [
              "<Figure size 432x288 with 1 Axes>"
            ]
          },
          "metadata": {
            "needs_background": "light"
          },
          "output_type": "display_data"
        },
        {
          "data": {
            "image/png": "[encoded data removed]",
            "text/plain": [
              "<Figure size 432x288 with 1 Axes>"
            ]
          },
          "metadata": {
            "needs_background": "light"
          },
          "output_type": "display_data"
        },
        {
          "data": {
            "image/png": "[encoded data removed]",
            "text/plain": [
              "<Figure size 432x288 with 1 Axes>"
            ]
          },
          "metadata": {
            "needs_background": "light"
          },
          "output_type": "display_data"
        },
        {
          "data": {
            "image/png": "[encoded data removed]",
            "text/plain": [
              "<Figure size 432x288 with 1 Axes>"
            ]
          },
          "metadata": {
            "needs_background": "light"
          },
          "output_type": "display_data"
        },
        {
          "data": {
            "image/png": "[encoded data removed]",
            "text/plain": [
              "<Figure size 432x288 with 1 Axes>"
            ]
          },
          "metadata": {
            "needs_background": "light"
          },
          "output_type": "display_data"
        },
        {
          "data": {
            "image/png": "[encoded data removed]",
            "text/plain": [
              "<Figure size 432x288 with 1 Axes>"
            ]
          },
          "metadata": {
            "needs_background": "light"
          },
          "output_type": "display_data"
        },
        {
          "data": {
            "image/png": "[encoded data removed]",
            "text/plain": [
              "<Figure size 432x288 with 1 Axes>"
            ]
          },
          "metadata": {
            "needs_background": "light"
          },
          "output_type": "display_data"
        },
        {
          "data": {
            "image/png": "[encoded data removed]",
            "text/plain": [
              "<Figure size 432x288 with 1 Axes>"
            ]
          },
          "metadata": {
            "needs_background": "light"
          },
          "output_type": "display_data"
        },
        {
          "data": {
            "image/png": "[encoded data removed]",
            "text/plain": [
              "<Figure size 432x288 with 1 Axes>"
            ]
          },
          "metadata": {
            "needs_background": "light"
          },
          "output_type": "display_data"
        },
        {
          "data": {
            "image/png": "[encoded data removed]",
            "text/plain": [
              "<Figure size 432x288 with 1 Axes>"
            ]
          },
          "metadata": {
            "needs_background": "light"
          },
          "output_type": "display_data"
        }
      ],
      "source": [
        "#outlier detection \n",
        "for i in col_list:\n",
        "    if(data[i].dtype == 'int64' or data[i].dtype == 'float64'):\n",
        "        plt.boxplot(data[i])\n",
        "        plt.xlabel(i)\n",
        "        plt.ylabel('count')\n",
        "        plt.show()"
      ]
    },
    {
      "cell_type": "code",
      "execution_count": null,
      "id": "7a2f09c6",
      "metadata": {
        "id": "7a2f09c6",
        "outputId": "6a802b29-69b7-4160-9a62-06211414faf2"
      },
      "outputs": [
        {
          "data": {
            "image/png": "[encoded data removed]",
            "text/plain": [
              "<Figure size 432x288 with 1 Axes>"
            ]
          },
          "metadata": {
            "needs_background": "light"
          },
          "output_type": "display_data"
        },
        {
          "data": {
            "image/png": "[encoded data removed]",
            "text/plain": [
              "<Figure size 432x288 with 1 Axes>"
            ]
          },
          "metadata": {
            "needs_background": "light"
          },
          "output_type": "display_data"
        },
        {
          "data": {
            "image/png": "[encoded data removed]",
            "text/plain": [
              "<Figure size 432x288 with 1 Axes>"
            ]
          },
          "metadata": {
            "needs_background": "light"
          },
          "output_type": "display_data"
        },
        {
          "data": {
            "image/png": "[encoded data removed]",
            "text/plain": [
              "<Figure size 432x288 with 1 Axes>"
            ]
          },
          "metadata": {
            "needs_background": "light"
          },
          "output_type": "display_data"
        },
        {
          "data": {
            "image/png": "[encoded data removed]",
            "text/plain": [
              "<Figure size 432x288 with 1 Axes>"
            ]
          },
          "metadata": {
            "needs_background": "light"
          },
          "output_type": "display_data"
        },
        {
          "data": {
            "image/png": "[encoded data removed]",
            "text/plain": [
              "<Figure size 432x288 with 1 Axes>"
            ]
          },
          "metadata": {
            "needs_background": "light"
          },
          "output_type": "display_data"
        },
        {
          "data": {
            "image/png": "[encoded data removed]",
            "text/plain": [
              "<Figure size 432x288 with 1 Axes>"
            ]
          },
          "metadata": {
            "needs_background": "light"
          },
          "output_type": "display_data"
        },
        {
          "data": {
            "image/png": "[encoded data removed]",
            "text/plain": [
              "<Figure size 432x288 with 1 Axes>"
            ]
          },
          "metadata": {
            "needs_background": "light"
          },
          "output_type": "display_data"
        },
        {
          "data": {
            "image/png": "[encoded data removed]",
            "text/plain": [
              "<Figure size 432x288 with 1 Axes>"
            ]
          },
          "metadata": {
            "needs_background": "light"
          },
          "output_type": "display_data"
        },
        {
          "data": {
            "image/png": "[encoded data removed]",
            "text/plain": [
              "<Figure size 432x288 with 1 Axes>"
            ]
          },
          "metadata": {
            "needs_background": "light"
          },
          "output_type": "display_data"
        }
      ],
      "source": [
        "for i in col_list:\n",
        "    if(data[i].dtype == 'int64' or data[i].dtype == 'float64'):\n",
        "        plt.hist(data[i])\n",
        "        plt.xlabel(i)\n",
        "        plt.ylabel('count')\n",
        "        plt.show()"
      ]
    },
    {
      "cell_type": "code",
      "execution_count": null,
      "id": "e19d5a16",
      "metadata": {
        "id": "e19d5a16"
      },
      "outputs": [],
      "source": [
        "#outlier removal\n",
        "    #IQR\n",
        "    #mean"
      ]
    },
    {
      "cell_type": "code",
      "execution_count": null,
      "id": "67759995",
      "metadata": {
        "id": "67759995"
      },
      "outputs": [],
      "source": []
    },
    {
      "cell_type": "code",
      "execution_count": null,
      "id": "7810d64c",
      "metadata": {
        "id": "7810d64c",
        "outputId": "f720bfa7-184b-4e9c-960c-6dca8b4c9801"
      },
      "outputs": [
        {
          "data": {
            "text/html": [
              "<div>\n",
              "<style scoped>\n",
              "    .dataframe tbody tr th:only-of-type {\n",
              "        vertical-align: middle;\n",
              "    }\n",
              "\n",
              "    .dataframe tbody tr th {\n",
              "        vertical-align: top;\n",
              "    }\n",
              "\n",
              "    .dataframe thead th {\n",
              "        text-align: right;\n",
              "    }\n",
              "</style>\n",
              "<table border=\"1\" class=\"dataframe\">\n",
              "  <thead>\n",
              "    <tr style=\"text-align: right;\">\n",
              "      <th></th>\n",
              "      <th>age</th>\n",
              "      <th>duration</th>\n",
              "      <th>campaign</th>\n",
              "      <th>pdays</th>\n",
              "      <th>previous</th>\n",
              "      <th>emp.var.rate</th>\n",
              "      <th>cons.price.idx</th>\n",
              "      <th>cons.conf.idx</th>\n",
              "      <th>euribor3m</th>\n",
              "      <th>nr.employed</th>\n",
              "    </tr>\n",
              "  </thead>\n",
              "  <tbody>\n",
              "    <tr>\n",
              "      <th>count</th>\n",
              "      <td>41199.000000</td>\n",
              "      <td>41199.000000</td>\n",
              "      <td>41199.000000</td>\n",
              "      <td>41199.000000</td>\n",
              "      <td>41199.000000</td>\n",
              "      <td>41199.000000</td>\n",
              "      <td>41199.000000</td>\n",
              "      <td>41199.000000</td>\n",
              "      <td>41199.000000</td>\n",
              "      <td>41199.000000</td>\n",
              "    </tr>\n",
              "    <tr>\n",
              "      <th>mean</th>\n",
              "      <td>40.030319</td>\n",
              "      <td>258.281265</td>\n",
              "      <td>2.567676</td>\n",
              "      <td>962.482547</td>\n",
              "      <td>0.173124</td>\n",
              "      <td>0.081656</td>\n",
              "      <td>93.575867</td>\n",
              "      <td>-40.504600</td>\n",
              "      <td>3.620787</td>\n",
              "      <td>5166.996405</td>\n",
              "    </tr>\n",
              "    <tr>\n",
              "      <th>std</th>\n",
              "      <td>10.431311</td>\n",
              "      <td>259.244772</td>\n",
              "      <td>2.769650</td>\n",
              "      <td>186.886646</td>\n",
              "      <td>0.494969</td>\n",
              "      <td>1.570836</td>\n",
              "      <td>0.578971</td>\n",
              "      <td>4.629804</td>\n",
              "      <td>1.734592</td>\n",
              "      <td>72.297472</td>\n",
              "    </tr>\n",
              "    <tr>\n",
              "      <th>min</th>\n",
              "      <td>17.000000</td>\n",
              "      <td>0.000000</td>\n",
              "      <td>1.000000</td>\n",
              "      <td>0.000000</td>\n",
              "      <td>0.000000</td>\n",
              "      <td>-3.400000</td>\n",
              "      <td>92.201000</td>\n",
              "      <td>-50.800000</td>\n",
              "      <td>0.634000</td>\n",
              "      <td>4963.600000</td>\n",
              "    </tr>\n",
              "    <tr>\n",
              "      <th>25%</th>\n",
              "      <td>32.000000</td>\n",
              "      <td>102.000000</td>\n",
              "      <td>1.000000</td>\n",
              "      <td>999.000000</td>\n",
              "      <td>0.000000</td>\n",
              "      <td>-1.800000</td>\n",
              "      <td>93.075000</td>\n",
              "      <td>-42.700000</td>\n",
              "      <td>1.344000</td>\n",
              "      <td>5099.100000</td>\n",
              "    </tr>\n",
              "    <tr>\n",
              "      <th>50%</th>\n",
              "      <td>38.000000</td>\n",
              "      <td>180.000000</td>\n",
              "      <td>2.000000</td>\n",
              "      <td>999.000000</td>\n",
              "      <td>0.000000</td>\n",
              "      <td>1.100000</td>\n",
              "      <td>93.749000</td>\n",
              "      <td>-41.800000</td>\n",
              "      <td>4.857000</td>\n",
              "      <td>5191.000000</td>\n",
              "    </tr>\n",
              "    <tr>\n",
              "      <th>75%</th>\n",
              "      <td>47.000000</td>\n",
              "      <td>319.000000</td>\n",
              "      <td>3.000000</td>\n",
              "      <td>999.000000</td>\n",
              "      <td>0.000000</td>\n",
              "      <td>1.400000</td>\n",
              "      <td>93.994000</td>\n",
              "      <td>-36.400000</td>\n",
              "      <td>4.961000</td>\n",
              "      <td>5228.100000</td>\n",
              "    </tr>\n",
              "    <tr>\n",
              "      <th>max</th>\n",
              "      <td>98.000000</td>\n",
              "      <td>4918.000000</td>\n",
              "      <td>56.000000</td>\n",
              "      <td>999.000000</td>\n",
              "      <td>7.000000</td>\n",
              "      <td>1.400000</td>\n",
              "      <td>94.767000</td>\n",
              "      <td>-26.900000</td>\n",
              "      <td>5.045000</td>\n",
              "      <td>5228.100000</td>\n",
              "    </tr>\n",
              "  </tbody>\n",
              "</table>\n",
              "</div>"
            ],
            "text/plain": [
              "                age      duration      campaign         pdays      previous  \\\n",
              "count  41199.000000  41199.000000  41199.000000  41199.000000  41199.000000   \n",
              "mean      40.030319    258.281265      2.567676    962.482547      0.173124   \n",
              "std       10.431311    259.244772      2.769650    186.886646      0.494969   \n",
              "min       17.000000      0.000000      1.000000      0.000000      0.000000   \n",
              "25%       32.000000    102.000000      1.000000    999.000000      0.000000   \n",
              "50%       38.000000    180.000000      2.000000    999.000000      0.000000   \n",
              "75%       47.000000    319.000000      3.000000    999.000000      0.000000   \n",
              "max       98.000000   4918.000000     56.000000    999.000000      7.000000   \n",
              "\n",
              "       emp.var.rate  cons.price.idx  cons.conf.idx     euribor3m   nr.employed  \n",
              "count  41199.000000    41199.000000   41199.000000  41199.000000  41199.000000  \n",
              "mean       0.081656       93.575867     -40.504600      3.620787   5166.996405  \n",
              "std        1.570836        0.578971       4.629804      1.734592     72.297472  \n",
              "min       -3.400000       92.201000     -50.800000      0.634000   4963.600000  \n",
              "25%       -1.800000       93.075000     -42.700000      1.344000   5099.100000  \n",
              "50%        1.100000       93.749000     -41.800000      4.857000   5191.000000  \n",
              "75%        1.400000       93.994000     -36.400000      4.961000   5228.100000  \n",
              "max        1.400000       94.767000     -26.900000      5.045000   5228.100000  "
            ]
          },
          "execution_count": 27,
          "metadata": {},
          "output_type": "execute_result"
        }
      ],
      "source": [
        "#Mean\n",
        "data.describe()"
      ]
    },
    {
      "cell_type": "code",
      "execution_count": null,
      "id": "553c0fe0",
      "metadata": {
        "id": "553c0fe0",
        "outputId": "328e9fc7-337f-4c0a-f83d-f9a6f4954290"
      },
      "outputs": [
        {
          "name": "stdout",
          "output_type": "stream",
          "text": [
            "Highest Allowed 92.18687473494765\n",
            "Lowest Allowed 8.736385900626246\n"
          ]
        }
      ],
      "source": [
        "#Mean criteria\n",
        "print('Highest Allowed',data['age'].mean() + 5*data['age'].std())\n",
        "print('Lowest Allowed',data['age'].mean() - 3*data['age'].std())"
      ]
    },
    {
      "cell_type": "code",
      "execution_count": null,
      "id": "3a93a2ef",
      "metadata": {
        "id": "3a93a2ef",
        "outputId": "79a7373c-d88c-4555-99c2-66bfc6b94fb0"
      },
      "outputs": [
        {
          "data": {
            "text/plain": [
              "0        5191.000000\n",
              "1        5191.000000\n",
              "2        5191.000000\n",
              "3        5191.000000\n",
              "4        5191.000000\n",
              "            ...     \n",
              "41194    4963.600000\n",
              "41195    4963.600000\n",
              "41196    4963.600000\n",
              "41197    5166.996405\n",
              "41198    4963.600000\n",
              "Name: nr.employed, Length: 41199, dtype: float64"
            ]
          },
          "execution_count": 29,
          "metadata": {},
          "output_type": "execute_result"
        }
      ],
      "source": [
        "#IQR criteria\n",
        "#Q1 - 1.5*IQR\n",
        "#Q3 + 1.5*IQR\n",
        "data[col_name] "
      ]
    },
    {
      "cell_type": "code",
      "execution_count": null,
      "id": "227091e0",
      "metadata": {
        "id": "227091e0",
        "outputId": "a32cf99d-77dc-4aa4-a28a-7a5b424bd8ef"
      },
      "outputs": [
        {
          "name": "stdout",
          "output_type": "stream",
          "text": [
            "age                15.000\n",
            "duration          217.000\n",
            "campaign            2.000\n",
            "pdays               0.000\n",
            "previous            0.000\n",
            "emp.var.rate        3.200\n",
            "cons.price.idx      0.919\n",
            "cons.conf.idx       6.300\n",
            "euribor3m           3.617\n",
            "nr.employed       129.000\n",
            "dtype: float64\n"
          ]
        }
      ],
      "source": [
        "#outlier removal\n",
        "#IQR\n",
        "Q1 = data.quantile(0.25)\n",
        "Q3 = data.quantile(0.75)\n",
        "IQR = Q3 - Q1\n",
        "print(IQR)"
      ]
    },
    {
      "cell_type": "code",
      "execution_count": null,
      "id": "0c847853",
      "metadata": {
        "id": "0c847853",
        "outputId": "4ae3b7a5-a649-4f07-bd20-1b654a846227"
      },
      "outputs": [
        {
          "name": "stderr",
          "output_type": "stream",
          "text": [
            "<ipython-input-31-5520944b49c6>:1: FutureWarning: Automatic reindexing on DataFrame vs Series comparisons is deprecated and will raise ValueError in a future version.  Do `left, right = left.align(right, axis=1, copy=False)` before e.g. `left == right`\n",
            "  data  = data[~((data < (Q1 - 1.5*IQR)) | (data > (Q3 + 1.5*IQR))).any(axis = 1)]\n",
            "<ipython-input-31-5520944b49c6>:1: FutureWarning: Automatic reindexing on DataFrame vs Series comparisons is deprecated and will raise ValueError in a future version.  Do `left, right = left.align(right, axis=1, copy=False)` before e.g. `left == right`\n",
            "  data  = data[~((data < (Q1 - 1.5*IQR)) | (data > (Q3 + 1.5*IQR))).any(axis = 1)]\n"
          ]
        }
      ],
      "source": [
        "data  = data[~((data < (Q1 - 1.5*IQR)) | (data > (Q3 + 1.5*IQR))).any(axis = 1)]"
      ]
    },
    {
      "cell_type": "code",
      "execution_count": null,
      "id": "f44c005e",
      "metadata": {
        "id": "f44c005e",
        "outputId": "b4b520fb-82c5-4d23-f918-ed00dee19c18"
      },
      "outputs": [
        {
          "data": {
            "text/plain": [
              "(30360, 21)"
            ]
          },
          "execution_count": 32,
          "metadata": {},
          "output_type": "execute_result"
        }
      ],
      "source": [
        "data.shape"
      ]
    },
    {
      "cell_type": "code",
      "execution_count": null,
      "id": "963795d2",
      "metadata": {
        "id": "963795d2",
        "outputId": "691283cb-e115-4c15-8391-cd26797a80a7"
      },
      "outputs": [
        {
          "data": {
            "text/html": [
              "<div>\n",
              "<style scoped>\n",
              "    .dataframe tbody tr th:only-of-type {\n",
              "        vertical-align: middle;\n",
              "    }\n",
              "\n",
              "    .dataframe tbody tr th {\n",
              "        vertical-align: top;\n",
              "    }\n",
              "\n",
              "    .dataframe thead th {\n",
              "        text-align: right;\n",
              "    }\n",
              "</style>\n",
              "<table border=\"1\" class=\"dataframe\">\n",
              "  <thead>\n",
              "    <tr style=\"text-align: right;\">\n",
              "      <th></th>\n",
              "      <th>age</th>\n",
              "      <th>job</th>\n",
              "      <th>marital</th>\n",
              "      <th>education</th>\n",
              "      <th>default</th>\n",
              "      <th>housing</th>\n",
              "      <th>loan</th>\n",
              "      <th>contact</th>\n",
              "      <th>month</th>\n",
              "      <th>day_of_week</th>\n",
              "      <th>...</th>\n",
              "      <th>campaign</th>\n",
              "      <th>pdays</th>\n",
              "      <th>previous</th>\n",
              "      <th>poutcome</th>\n",
              "      <th>emp.var.rate</th>\n",
              "      <th>cons.price.idx</th>\n",
              "      <th>cons.conf.idx</th>\n",
              "      <th>euribor3m</th>\n",
              "      <th>nr.employed</th>\n",
              "      <th>y</th>\n",
              "    </tr>\n",
              "  </thead>\n",
              "  <tbody>\n",
              "    <tr>\n",
              "      <th>0</th>\n",
              "      <td>56.0</td>\n",
              "      <td>housemaid</td>\n",
              "      <td>married</td>\n",
              "      <td>basic.4y</td>\n",
              "      <td>no</td>\n",
              "      <td>no</td>\n",
              "      <td>no</td>\n",
              "      <td>telephone</td>\n",
              "      <td>may</td>\n",
              "      <td>mon</td>\n",
              "      <td>...</td>\n",
              "      <td>1.0</td>\n",
              "      <td>999.0</td>\n",
              "      <td>0.0</td>\n",
              "      <td>nonexistent</td>\n",
              "      <td>1.1</td>\n",
              "      <td>93.994</td>\n",
              "      <td>-36.4</td>\n",
              "      <td>4.857</td>\n",
              "      <td>5191.0</td>\n",
              "      <td>0</td>\n",
              "    </tr>\n",
              "    <tr>\n",
              "      <th>1</th>\n",
              "      <td>57.0</td>\n",
              "      <td>services</td>\n",
              "      <td>married</td>\n",
              "      <td>high.school</td>\n",
              "      <td>unknown</td>\n",
              "      <td>no</td>\n",
              "      <td>no</td>\n",
              "      <td>telephone</td>\n",
              "      <td>may</td>\n",
              "      <td>mon</td>\n",
              "      <td>...</td>\n",
              "      <td>1.0</td>\n",
              "      <td>999.0</td>\n",
              "      <td>0.0</td>\n",
              "      <td>nonexistent</td>\n",
              "      <td>1.1</td>\n",
              "      <td>93.994</td>\n",
              "      <td>-36.4</td>\n",
              "      <td>4.857</td>\n",
              "      <td>5191.0</td>\n",
              "      <td>0</td>\n",
              "    </tr>\n",
              "    <tr>\n",
              "      <th>4</th>\n",
              "      <td>56.0</td>\n",
              "      <td>services</td>\n",
              "      <td>married</td>\n",
              "      <td>high.school</td>\n",
              "      <td>no</td>\n",
              "      <td>no</td>\n",
              "      <td>yes</td>\n",
              "      <td>telephone</td>\n",
              "      <td>may</td>\n",
              "      <td>mon</td>\n",
              "      <td>...</td>\n",
              "      <td>1.0</td>\n",
              "      <td>999.0</td>\n",
              "      <td>0.0</td>\n",
              "      <td>nonexistent</td>\n",
              "      <td>1.1</td>\n",
              "      <td>93.994</td>\n",
              "      <td>-36.4</td>\n",
              "      <td>4.857</td>\n",
              "      <td>5191.0</td>\n",
              "      <td>0</td>\n",
              "    </tr>\n",
              "    <tr>\n",
              "      <th>6</th>\n",
              "      <td>59.0</td>\n",
              "      <td>admin.</td>\n",
              "      <td>married</td>\n",
              "      <td>professional.course</td>\n",
              "      <td>no</td>\n",
              "      <td>no</td>\n",
              "      <td>no</td>\n",
              "      <td>telephone</td>\n",
              "      <td>may</td>\n",
              "      <td>mon</td>\n",
              "      <td>...</td>\n",
              "      <td>1.0</td>\n",
              "      <td>999.0</td>\n",
              "      <td>0.0</td>\n",
              "      <td>nonexistent</td>\n",
              "      <td>1.1</td>\n",
              "      <td>93.994</td>\n",
              "      <td>-36.4</td>\n",
              "      <td>4.857</td>\n",
              "      <td>5191.0</td>\n",
              "      <td>0</td>\n",
              "    </tr>\n",
              "    <tr>\n",
              "      <th>13</th>\n",
              "      <td>57.0</td>\n",
              "      <td>housemaid</td>\n",
              "      <td>divorced</td>\n",
              "      <td>basic.4y</td>\n",
              "      <td>no</td>\n",
              "      <td>yes</td>\n",
              "      <td>no</td>\n",
              "      <td>telephone</td>\n",
              "      <td>may</td>\n",
              "      <td>mon</td>\n",
              "      <td>...</td>\n",
              "      <td>1.0</td>\n",
              "      <td>999.0</td>\n",
              "      <td>0.0</td>\n",
              "      <td>nonexistent</td>\n",
              "      <td>1.1</td>\n",
              "      <td>93.994</td>\n",
              "      <td>-36.4</td>\n",
              "      <td>4.857</td>\n",
              "      <td>5191.0</td>\n",
              "      <td>0</td>\n",
              "    </tr>\n",
              "    <tr>\n",
              "      <th>...</th>\n",
              "      <td>...</td>\n",
              "      <td>...</td>\n",
              "      <td>...</td>\n",
              "      <td>...</td>\n",
              "      <td>...</td>\n",
              "      <td>...</td>\n",
              "      <td>...</td>\n",
              "      <td>...</td>\n",
              "      <td>...</td>\n",
              "      <td>...</td>\n",
              "      <td>...</td>\n",
              "      <td>...</td>\n",
              "      <td>...</td>\n",
              "      <td>...</td>\n",
              "      <td>...</td>\n",
              "      <td>...</td>\n",
              "      <td>...</td>\n",
              "      <td>...</td>\n",
              "      <td>...</td>\n",
              "      <td>...</td>\n",
              "      <td>...</td>\n",
              "    </tr>\n",
              "    <tr>\n",
              "      <th>41138</th>\n",
              "      <td>58.0</td>\n",
              "      <td>unemployed</td>\n",
              "      <td>married</td>\n",
              "      <td>university.degree</td>\n",
              "      <td>no</td>\n",
              "      <td>yes</td>\n",
              "      <td>no</td>\n",
              "      <td>cellular</td>\n",
              "      <td>nov</td>\n",
              "      <td>thu</td>\n",
              "      <td>...</td>\n",
              "      <td>2.0</td>\n",
              "      <td>999.0</td>\n",
              "      <td>0.0</td>\n",
              "      <td>nonexistent</td>\n",
              "      <td>-1.1</td>\n",
              "      <td>94.767</td>\n",
              "      <td>-50.8</td>\n",
              "      <td>1.041</td>\n",
              "      <td>4963.6</td>\n",
              "      <td>1</td>\n",
              "    </tr>\n",
              "    <tr>\n",
              "      <th>41169</th>\n",
              "      <td>62.0</td>\n",
              "      <td>services</td>\n",
              "      <td>married</td>\n",
              "      <td>high.school</td>\n",
              "      <td>no</td>\n",
              "      <td>yes</td>\n",
              "      <td>no</td>\n",
              "      <td>cellular</td>\n",
              "      <td>nov</td>\n",
              "      <td>wed</td>\n",
              "      <td>...</td>\n",
              "      <td>5.0</td>\n",
              "      <td>999.0</td>\n",
              "      <td>0.0</td>\n",
              "      <td>nonexistent</td>\n",
              "      <td>-1.1</td>\n",
              "      <td>94.767</td>\n",
              "      <td>-50.8</td>\n",
              "      <td>1.030</td>\n",
              "      <td>4963.6</td>\n",
              "      <td>0</td>\n",
              "    </tr>\n",
              "    <tr>\n",
              "      <th>41177</th>\n",
              "      <td>57.0</td>\n",
              "      <td>retired</td>\n",
              "      <td>married</td>\n",
              "      <td>professional.course</td>\n",
              "      <td>no</td>\n",
              "      <td>yes</td>\n",
              "      <td>no</td>\n",
              "      <td>cellular</td>\n",
              "      <td>nov</td>\n",
              "      <td>thu</td>\n",
              "      <td>...</td>\n",
              "      <td>6.0</td>\n",
              "      <td>999.0</td>\n",
              "      <td>0.0</td>\n",
              "      <td>nonexistent</td>\n",
              "      <td>-1.1</td>\n",
              "      <td>94.767</td>\n",
              "      <td>-50.8</td>\n",
              "      <td>1.031</td>\n",
              "      <td>4963.6</td>\n",
              "      <td>0</td>\n",
              "    </tr>\n",
              "    <tr>\n",
              "      <th>41179</th>\n",
              "      <td>64.0</td>\n",
              "      <td>retired</td>\n",
              "      <td>divorced</td>\n",
              "      <td>professional.course</td>\n",
              "      <td>no</td>\n",
              "      <td>yes</td>\n",
              "      <td>no</td>\n",
              "      <td>cellular</td>\n",
              "      <td>nov</td>\n",
              "      <td>fri</td>\n",
              "      <td>...</td>\n",
              "      <td>3.0</td>\n",
              "      <td>999.0</td>\n",
              "      <td>0.0</td>\n",
              "      <td>nonexistent</td>\n",
              "      <td>-1.1</td>\n",
              "      <td>94.767</td>\n",
              "      <td>-50.8</td>\n",
              "      <td>1.028</td>\n",
              "      <td>4963.6</td>\n",
              "      <td>0</td>\n",
              "    </tr>\n",
              "    <tr>\n",
              "      <th>41185</th>\n",
              "      <td>56.0</td>\n",
              "      <td>retired</td>\n",
              "      <td>married</td>\n",
              "      <td>university.degree</td>\n",
              "      <td>no</td>\n",
              "      <td>yes</td>\n",
              "      <td>no</td>\n",
              "      <td>cellular</td>\n",
              "      <td>nov</td>\n",
              "      <td>fri</td>\n",
              "      <td>...</td>\n",
              "      <td>2.0</td>\n",
              "      <td>999.0</td>\n",
              "      <td>0.0</td>\n",
              "      <td>nonexistent</td>\n",
              "      <td>-1.1</td>\n",
              "      <td>94.767</td>\n",
              "      <td>-50.8</td>\n",
              "      <td>1.028</td>\n",
              "      <td>4963.6</td>\n",
              "      <td>0</td>\n",
              "    </tr>\n",
              "  </tbody>\n",
              "</table>\n",
              "<p>4949 rows × 21 columns</p>\n",
              "</div>"
            ],
            "text/plain": [
              "        age         job   marital            education  default housing loan  \\\n",
              "0      56.0   housemaid   married             basic.4y       no      no   no   \n",
              "1      57.0    services   married          high.school  unknown      no   no   \n",
              "4      56.0    services   married          high.school       no      no  yes   \n",
              "6      59.0      admin.   married  professional.course       no      no   no   \n",
              "13     57.0   housemaid  divorced             basic.4y       no     yes   no   \n",
              "...     ...         ...       ...                  ...      ...     ...  ...   \n",
              "41138  58.0  unemployed   married    university.degree       no     yes   no   \n",
              "41169  62.0    services   married          high.school       no     yes   no   \n",
              "41177  57.0     retired   married  professional.course       no     yes   no   \n",
              "41179  64.0     retired  divorced  professional.course       no     yes   no   \n",
              "41185  56.0     retired   married    university.degree       no     yes   no   \n",
              "\n",
              "         contact month day_of_week  ...  campaign  pdays  previous  \\\n",
              "0      telephone   may         mon  ...       1.0  999.0       0.0   \n",
              "1      telephone   may         mon  ...       1.0  999.0       0.0   \n",
              "4      telephone   may         mon  ...       1.0  999.0       0.0   \n",
              "6      telephone   may         mon  ...       1.0  999.0       0.0   \n",
              "13     telephone   may         mon  ...       1.0  999.0       0.0   \n",
              "...          ...   ...         ...  ...       ...    ...       ...   \n",
              "41138   cellular   nov         thu  ...       2.0  999.0       0.0   \n",
              "41169   cellular   nov         wed  ...       5.0  999.0       0.0   \n",
              "41177   cellular   nov         thu  ...       6.0  999.0       0.0   \n",
              "41179   cellular   nov         fri  ...       3.0  999.0       0.0   \n",
              "41185   cellular   nov         fri  ...       2.0  999.0       0.0   \n",
              "\n",
              "          poutcome emp.var.rate  cons.price.idx  cons.conf.idx  euribor3m  \\\n",
              "0      nonexistent          1.1          93.994          -36.4      4.857   \n",
              "1      nonexistent          1.1          93.994          -36.4      4.857   \n",
              "4      nonexistent          1.1          93.994          -36.4      4.857   \n",
              "6      nonexistent          1.1          93.994          -36.4      4.857   \n",
              "13     nonexistent          1.1          93.994          -36.4      4.857   \n",
              "...            ...          ...             ...            ...        ...   \n",
              "41138  nonexistent         -1.1          94.767          -50.8      1.041   \n",
              "41169  nonexistent         -1.1          94.767          -50.8      1.030   \n",
              "41177  nonexistent         -1.1          94.767          -50.8      1.031   \n",
              "41179  nonexistent         -1.1          94.767          -50.8      1.028   \n",
              "41185  nonexistent         -1.1          94.767          -50.8      1.028   \n",
              "\n",
              "       nr.employed  y  \n",
              "0           5191.0  0  \n",
              "1           5191.0  0  \n",
              "4           5191.0  0  \n",
              "6           5191.0  0  \n",
              "13          5191.0  0  \n",
              "...            ... ..  \n",
              "41138       4963.6  1  \n",
              "41169       4963.6  0  \n",
              "41177       4963.6  0  \n",
              "41179       4963.6  0  \n",
              "41185       4963.6  0  \n",
              "\n",
              "[4949 rows x 21 columns]"
            ]
          },
          "execution_count": 33,
          "metadata": {},
          "output_type": "execute_result"
        }
      ],
      "source": [
        "query = data['age'] > 50\n",
        "data[query]"
      ]
    },
    {
      "cell_type": "code",
      "execution_count": null,
      "id": "1bbb8cb4",
      "metadata": {
        "id": "1bbb8cb4"
      },
      "outputs": [],
      "source": [
        "#Binning\n",
        "    #process of converting the continuous column to categorical column\n",
        "bins  = [0,1,5,10,25,50,100]\n",
        "data['age'] = pd.cut(data['age'],bins)\n",
        "data['age'] = data.age.astype(str)"
      ]
    },
    {
      "cell_type": "code",
      "execution_count": null,
      "id": "120e9d74",
      "metadata": {
        "id": "120e9d74",
        "outputId": "727a7c08-81cb-40fa-f281-66c5ca676426"
      },
      "outputs": [
        {
          "data": {
            "text/html": [
              "<div>\n",
              "<style scoped>\n",
              "    .dataframe tbody tr th:only-of-type {\n",
              "        vertical-align: middle;\n",
              "    }\n",
              "\n",
              "    .dataframe tbody tr th {\n",
              "        vertical-align: top;\n",
              "    }\n",
              "\n",
              "    .dataframe thead th {\n",
              "        text-align: right;\n",
              "    }\n",
              "</style>\n",
              "<table border=\"1\" class=\"dataframe\">\n",
              "  <thead>\n",
              "    <tr style=\"text-align: right;\">\n",
              "      <th></th>\n",
              "      <th>age</th>\n",
              "      <th>job</th>\n",
              "      <th>marital</th>\n",
              "      <th>education</th>\n",
              "      <th>default</th>\n",
              "      <th>housing</th>\n",
              "      <th>loan</th>\n",
              "      <th>contact</th>\n",
              "      <th>month</th>\n",
              "      <th>day_of_week</th>\n",
              "      <th>...</th>\n",
              "      <th>campaign</th>\n",
              "      <th>pdays</th>\n",
              "      <th>previous</th>\n",
              "      <th>poutcome</th>\n",
              "      <th>emp.var.rate</th>\n",
              "      <th>cons.price.idx</th>\n",
              "      <th>cons.conf.idx</th>\n",
              "      <th>euribor3m</th>\n",
              "      <th>nr.employed</th>\n",
              "      <th>y</th>\n",
              "    </tr>\n",
              "  </thead>\n",
              "  <tbody>\n",
              "    <tr>\n",
              "      <th>0</th>\n",
              "      <td>(50, 100]</td>\n",
              "      <td>housemaid</td>\n",
              "      <td>married</td>\n",
              "      <td>basic.4y</td>\n",
              "      <td>no</td>\n",
              "      <td>no</td>\n",
              "      <td>no</td>\n",
              "      <td>telephone</td>\n",
              "      <td>may</td>\n",
              "      <td>mon</td>\n",
              "      <td>...</td>\n",
              "      <td>1.0</td>\n",
              "      <td>999.0</td>\n",
              "      <td>0.0</td>\n",
              "      <td>nonexistent</td>\n",
              "      <td>1.1</td>\n",
              "      <td>93.994</td>\n",
              "      <td>-36.4</td>\n",
              "      <td>4.857</td>\n",
              "      <td>5191.0</td>\n",
              "      <td>0</td>\n",
              "    </tr>\n",
              "    <tr>\n",
              "      <th>1</th>\n",
              "      <td>(50, 100]</td>\n",
              "      <td>services</td>\n",
              "      <td>married</td>\n",
              "      <td>high.school</td>\n",
              "      <td>unknown</td>\n",
              "      <td>no</td>\n",
              "      <td>no</td>\n",
              "      <td>telephone</td>\n",
              "      <td>may</td>\n",
              "      <td>mon</td>\n",
              "      <td>...</td>\n",
              "      <td>1.0</td>\n",
              "      <td>999.0</td>\n",
              "      <td>0.0</td>\n",
              "      <td>nonexistent</td>\n",
              "      <td>1.1</td>\n",
              "      <td>93.994</td>\n",
              "      <td>-36.4</td>\n",
              "      <td>4.857</td>\n",
              "      <td>5191.0</td>\n",
              "      <td>0</td>\n",
              "    </tr>\n",
              "    <tr>\n",
              "      <th>2</th>\n",
              "      <td>(25, 50]</td>\n",
              "      <td>services</td>\n",
              "      <td>married</td>\n",
              "      <td>high.school</td>\n",
              "      <td>no</td>\n",
              "      <td>yes</td>\n",
              "      <td>no</td>\n",
              "      <td>telephone</td>\n",
              "      <td>may</td>\n",
              "      <td>mon</td>\n",
              "      <td>...</td>\n",
              "      <td>1.0</td>\n",
              "      <td>999.0</td>\n",
              "      <td>0.0</td>\n",
              "      <td>nonexistent</td>\n",
              "      <td>1.1</td>\n",
              "      <td>93.994</td>\n",
              "      <td>-36.4</td>\n",
              "      <td>4.857</td>\n",
              "      <td>5191.0</td>\n",
              "      <td>0</td>\n",
              "    </tr>\n",
              "    <tr>\n",
              "      <th>3</th>\n",
              "      <td>(25, 50]</td>\n",
              "      <td>admin.</td>\n",
              "      <td>married</td>\n",
              "      <td>basic.6y</td>\n",
              "      <td>no</td>\n",
              "      <td>no</td>\n",
              "      <td>no</td>\n",
              "      <td>telephone</td>\n",
              "      <td>may</td>\n",
              "      <td>mon</td>\n",
              "      <td>...</td>\n",
              "      <td>1.0</td>\n",
              "      <td>999.0</td>\n",
              "      <td>0.0</td>\n",
              "      <td>nonexistent</td>\n",
              "      <td>1.1</td>\n",
              "      <td>93.994</td>\n",
              "      <td>-36.4</td>\n",
              "      <td>4.857</td>\n",
              "      <td>5191.0</td>\n",
              "      <td>0</td>\n",
              "    </tr>\n",
              "    <tr>\n",
              "      <th>4</th>\n",
              "      <td>(50, 100]</td>\n",
              "      <td>services</td>\n",
              "      <td>married</td>\n",
              "      <td>high.school</td>\n",
              "      <td>no</td>\n",
              "      <td>no</td>\n",
              "      <td>yes</td>\n",
              "      <td>telephone</td>\n",
              "      <td>may</td>\n",
              "      <td>mon</td>\n",
              "      <td>...</td>\n",
              "      <td>1.0</td>\n",
              "      <td>999.0</td>\n",
              "      <td>0.0</td>\n",
              "      <td>nonexistent</td>\n",
              "      <td>1.1</td>\n",
              "      <td>93.994</td>\n",
              "      <td>-36.4</td>\n",
              "      <td>4.857</td>\n",
              "      <td>5191.0</td>\n",
              "      <td>0</td>\n",
              "    </tr>\n",
              "  </tbody>\n",
              "</table>\n",
              "<p>5 rows × 21 columns</p>\n",
              "</div>"
            ],
            "text/plain": [
              "         age        job  marital    education  default housing loan  \\\n",
              "0  (50, 100]  housemaid  married     basic.4y       no      no   no   \n",
              "1  (50, 100]   services  married  high.school  unknown      no   no   \n",
              "2   (25, 50]   services  married  high.school       no     yes   no   \n",
              "3   (25, 50]     admin.  married     basic.6y       no      no   no   \n",
              "4  (50, 100]   services  married  high.school       no      no  yes   \n",
              "\n",
              "     contact month day_of_week  ...  campaign  pdays  previous     poutcome  \\\n",
              "0  telephone   may         mon  ...       1.0  999.0       0.0  nonexistent   \n",
              "1  telephone   may         mon  ...       1.0  999.0       0.0  nonexistent   \n",
              "2  telephone   may         mon  ...       1.0  999.0       0.0  nonexistent   \n",
              "3  telephone   may         mon  ...       1.0  999.0       0.0  nonexistent   \n",
              "4  telephone   may         mon  ...       1.0  999.0       0.0  nonexistent   \n",
              "\n",
              "  emp.var.rate  cons.price.idx  cons.conf.idx  euribor3m  nr.employed  y  \n",
              "0          1.1          93.994          -36.4      4.857       5191.0  0  \n",
              "1          1.1          93.994          -36.4      4.857       5191.0  0  \n",
              "2          1.1          93.994          -36.4      4.857       5191.0  0  \n",
              "3          1.1          93.994          -36.4      4.857       5191.0  0  \n",
              "4          1.1          93.994          -36.4      4.857       5191.0  0  \n",
              "\n",
              "[5 rows x 21 columns]"
            ]
          },
          "execution_count": 35,
          "metadata": {},
          "output_type": "execute_result"
        }
      ],
      "source": [
        "data.head()"
      ]
    },
    {
      "cell_type": "code",
      "execution_count": null,
      "id": "aa58dc5a",
      "metadata": {
        "id": "aa58dc5a",
        "outputId": "5b6191cf-7309-48bc-deca-2dae0e30873a"
      },
      "outputs": [
        {
          "data": {
            "text/plain": [
              "array(['(50, 100]', '(25, 50]', '(10, 25]'], dtype=object)"
            ]
          },
          "execution_count": 36,
          "metadata": {},
          "output_type": "execute_result"
        }
      ],
      "source": [
        "data['age'].unique()"
      ]
    },
    {
      "cell_type": "code",
      "execution_count": null,
      "id": "227fedc1",
      "metadata": {
        "id": "227fedc1",
        "outputId": "92a652df-41dc-4161-8540-0454f33811c5"
      },
      "outputs": [
        {
          "data": {
            "text/plain": [
              "(25, 50]     24302\n",
              "(50, 100]     4949\n",
              "(10, 25]      1109\n",
              "Name: age, dtype: int64"
            ]
          },
          "execution_count": 37,
          "metadata": {},
          "output_type": "execute_result"
        }
      ],
      "source": [
        "data.age.value_counts()"
      ]
    },
    {
      "cell_type": "code",
      "execution_count": null,
      "id": "30103df1",
      "metadata": {
        "id": "30103df1"
      },
      "outputs": [],
      "source": [
        "data2 = data"
      ]
    },
    {
      "cell_type": "code",
      "execution_count": null,
      "id": "3f19c99b",
      "metadata": {
        "id": "3f19c99b"
      },
      "outputs": [],
      "source": [
        "#Feature Selection\n",
        "#Model Building\n",
        "#Accuracy"
      ]
    },
    {
      "cell_type": "code",
      "execution_count": null,
      "id": "f1b3fda0",
      "metadata": {
        "id": "f1b3fda0"
      },
      "outputs": [],
      "source": [
        "#Feature Selection\n",
        "    #encoding\n",
        "    #VIF"
      ]
    },
    {
      "cell_type": "code",
      "execution_count": null,
      "id": "6408ab37",
      "metadata": {
        "id": "6408ab37"
      },
      "outputs": [],
      "source": [
        "#Encoding\n",
        "    #conveting object type into numerical type\n",
        "    #LabelEnconding"
      ]
    },
    {
      "cell_type": "code",
      "execution_count": null,
      "id": "6df6d568",
      "metadata": {
        "id": "6df6d568"
      },
      "outputs": [],
      "source": [
        "#enconding requires indepenent object format data\n",
        "col_list = []\n",
        "for i in data.columns:\n",
        "    if((data[i].dtype == 'object') & (i != 'y')):\n",
        "        col_list.append(i)        "
      ]
    },
    {
      "cell_type": "code",
      "execution_count": null,
      "id": "87bda9a1",
      "metadata": {
        "id": "87bda9a1",
        "outputId": "4c9d120a-f629-4dac-e9c3-4aeca072ec7e"
      },
      "outputs": [
        {
          "data": {
            "text/plain": [
              "['age',\n",
              " 'job',\n",
              " 'marital',\n",
              " 'education',\n",
              " 'default',\n",
              " 'housing',\n",
              " 'loan',\n",
              " 'contact',\n",
              " 'month',\n",
              " 'day_of_week',\n",
              " 'poutcome']"
            ]
          },
          "execution_count": 44,
          "metadata": {},
          "output_type": "execute_result"
        }
      ],
      "source": [
        "col_list"
      ]
    },
    {
      "cell_type": "code",
      "execution_count": null,
      "id": "f7daec26",
      "metadata": {
        "id": "f7daec26"
      },
      "outputs": [],
      "source": [
        "#LabelEncoding\n",
        "from sklearn.preprocessing import LabelEncoder\n",
        "labelencoder = LabelEncoder()\n",
        "for i in col_list:\n",
        "    data[i] = labelencoder.fit_transform(data[i])"
      ]
    },
    {
      "cell_type": "code",
      "execution_count": null,
      "id": "3b957ee8",
      "metadata": {
        "id": "3b957ee8",
        "outputId": "7c395ffa-e2a8-4961-9b76-99c507188a78"
      },
      "outputs": [
        {
          "data": {
            "text/html": [
              "<div>\n",
              "<style scoped>\n",
              "    .dataframe tbody tr th:only-of-type {\n",
              "        vertical-align: middle;\n",
              "    }\n",
              "\n",
              "    .dataframe tbody tr th {\n",
              "        vertical-align: top;\n",
              "    }\n",
              "\n",
              "    .dataframe thead th {\n",
              "        text-align: right;\n",
              "    }\n",
              "</style>\n",
              "<table border=\"1\" class=\"dataframe\">\n",
              "  <thead>\n",
              "    <tr style=\"text-align: right;\">\n",
              "      <th></th>\n",
              "      <th>age</th>\n",
              "      <th>job</th>\n",
              "      <th>marital</th>\n",
              "      <th>education</th>\n",
              "      <th>default</th>\n",
              "      <th>housing</th>\n",
              "      <th>loan</th>\n",
              "      <th>contact</th>\n",
              "      <th>month</th>\n",
              "      <th>day_of_week</th>\n",
              "      <th>...</th>\n",
              "      <th>campaign</th>\n",
              "      <th>pdays</th>\n",
              "      <th>previous</th>\n",
              "      <th>poutcome</th>\n",
              "      <th>emp.var.rate</th>\n",
              "      <th>cons.price.idx</th>\n",
              "      <th>cons.conf.idx</th>\n",
              "      <th>euribor3m</th>\n",
              "      <th>nr.employed</th>\n",
              "      <th>y</th>\n",
              "    </tr>\n",
              "  </thead>\n",
              "  <tbody>\n",
              "    <tr>\n",
              "      <th>0</th>\n",
              "      <td>2</td>\n",
              "      <td>3</td>\n",
              "      <td>1</td>\n",
              "      <td>0</td>\n",
              "      <td>0</td>\n",
              "      <td>0</td>\n",
              "      <td>0</td>\n",
              "      <td>1</td>\n",
              "      <td>6</td>\n",
              "      <td>1</td>\n",
              "      <td>...</td>\n",
              "      <td>1.0</td>\n",
              "      <td>999.0</td>\n",
              "      <td>0.0</td>\n",
              "      <td>0</td>\n",
              "      <td>1.1</td>\n",
              "      <td>93.994</td>\n",
              "      <td>-36.4</td>\n",
              "      <td>4.857</td>\n",
              "      <td>5191.0</td>\n",
              "      <td>0</td>\n",
              "    </tr>\n",
              "    <tr>\n",
              "      <th>1</th>\n",
              "      <td>2</td>\n",
              "      <td>7</td>\n",
              "      <td>1</td>\n",
              "      <td>3</td>\n",
              "      <td>1</td>\n",
              "      <td>0</td>\n",
              "      <td>0</td>\n",
              "      <td>1</td>\n",
              "      <td>6</td>\n",
              "      <td>1</td>\n",
              "      <td>...</td>\n",
              "      <td>1.0</td>\n",
              "      <td>999.0</td>\n",
              "      <td>0.0</td>\n",
              "      <td>0</td>\n",
              "      <td>1.1</td>\n",
              "      <td>93.994</td>\n",
              "      <td>-36.4</td>\n",
              "      <td>4.857</td>\n",
              "      <td>5191.0</td>\n",
              "      <td>0</td>\n",
              "    </tr>\n",
              "    <tr>\n",
              "      <th>2</th>\n",
              "      <td>1</td>\n",
              "      <td>7</td>\n",
              "      <td>1</td>\n",
              "      <td>3</td>\n",
              "      <td>0</td>\n",
              "      <td>2</td>\n",
              "      <td>0</td>\n",
              "      <td>1</td>\n",
              "      <td>6</td>\n",
              "      <td>1</td>\n",
              "      <td>...</td>\n",
              "      <td>1.0</td>\n",
              "      <td>999.0</td>\n",
              "      <td>0.0</td>\n",
              "      <td>0</td>\n",
              "      <td>1.1</td>\n",
              "      <td>93.994</td>\n",
              "      <td>-36.4</td>\n",
              "      <td>4.857</td>\n",
              "      <td>5191.0</td>\n",
              "      <td>0</td>\n",
              "    </tr>\n",
              "    <tr>\n",
              "      <th>3</th>\n",
              "      <td>1</td>\n",
              "      <td>0</td>\n",
              "      <td>1</td>\n",
              "      <td>1</td>\n",
              "      <td>0</td>\n",
              "      <td>0</td>\n",
              "      <td>0</td>\n",
              "      <td>1</td>\n",
              "      <td>6</td>\n",
              "      <td>1</td>\n",
              "      <td>...</td>\n",
              "      <td>1.0</td>\n",
              "      <td>999.0</td>\n",
              "      <td>0.0</td>\n",
              "      <td>0</td>\n",
              "      <td>1.1</td>\n",
              "      <td>93.994</td>\n",
              "      <td>-36.4</td>\n",
              "      <td>4.857</td>\n",
              "      <td>5191.0</td>\n",
              "      <td>0</td>\n",
              "    </tr>\n",
              "    <tr>\n",
              "      <th>4</th>\n",
              "      <td>2</td>\n",
              "      <td>7</td>\n",
              "      <td>1</td>\n",
              "      <td>3</td>\n",
              "      <td>0</td>\n",
              "      <td>0</td>\n",
              "      <td>2</td>\n",
              "      <td>1</td>\n",
              "      <td>6</td>\n",
              "      <td>1</td>\n",
              "      <td>...</td>\n",
              "      <td>1.0</td>\n",
              "      <td>999.0</td>\n",
              "      <td>0.0</td>\n",
              "      <td>0</td>\n",
              "      <td>1.1</td>\n",
              "      <td>93.994</td>\n",
              "      <td>-36.4</td>\n",
              "      <td>4.857</td>\n",
              "      <td>5191.0</td>\n",
              "      <td>0</td>\n",
              "    </tr>\n",
              "  </tbody>\n",
              "</table>\n",
              "<p>5 rows × 21 columns</p>\n",
              "</div>"
            ],
            "text/plain": [
              "   age  job  marital  education  default  housing  loan  contact  month  \\\n",
              "0    2    3        1          0        0        0     0        1      6   \n",
              "1    2    7        1          3        1        0     0        1      6   \n",
              "2    1    7        1          3        0        2     0        1      6   \n",
              "3    1    0        1          1        0        0     0        1      6   \n",
              "4    2    7        1          3        0        0     2        1      6   \n",
              "\n",
              "   day_of_week  ...  campaign  pdays  previous  poutcome  emp.var.rate  \\\n",
              "0            1  ...       1.0  999.0       0.0         0           1.1   \n",
              "1            1  ...       1.0  999.0       0.0         0           1.1   \n",
              "2            1  ...       1.0  999.0       0.0         0           1.1   \n",
              "3            1  ...       1.0  999.0       0.0         0           1.1   \n",
              "4            1  ...       1.0  999.0       0.0         0           1.1   \n",
              "\n",
              "   cons.price.idx  cons.conf.idx  euribor3m  nr.employed  y  \n",
              "0          93.994          -36.4      4.857       5191.0  0  \n",
              "1          93.994          -36.4      4.857       5191.0  0  \n",
              "2          93.994          -36.4      4.857       5191.0  0  \n",
              "3          93.994          -36.4      4.857       5191.0  0  \n",
              "4          93.994          -36.4      4.857       5191.0  0  \n",
              "\n",
              "[5 rows x 21 columns]"
            ]
          },
          "execution_count": 46,
          "metadata": {},
          "output_type": "execute_result"
        }
      ],
      "source": [
        "data.head()"
      ]
    },
    {
      "cell_type": "code",
      "execution_count": null,
      "id": "e2acef8e",
      "metadata": {
        "id": "e2acef8e"
      },
      "outputs": [],
      "source": [
        "#VIF"
      ]
    },
    {
      "cell_type": "code",
      "execution_count": null,
      "id": "a2a7ed60",
      "metadata": {
        "id": "a2a7ed60",
        "outputId": "6db791d4-64d9-47b5-cf96-5c8bde973b36"
      },
      "outputs": [
        {
          "data": {
            "text/plain": [
              "1    24302\n",
              "2     4949\n",
              "0     1109\n",
              "Name: age, dtype: int64"
            ]
          },
          "execution_count": 48,
          "metadata": {},
          "output_type": "execute_result"
        }
      ],
      "source": [
        "data.age.value_counts() "
      ]
    },
    {
      "cell_type": "code",
      "execution_count": null,
      "id": "95b5db6f",
      "metadata": {
        "id": "95b5db6f"
      },
      "outputs": [],
      "source": [
        "#VIF"
      ]
    },
    {
      "cell_type": "code",
      "execution_count": null,
      "id": "d41f30e9",
      "metadata": {
        "id": "d41f30e9"
      },
      "outputs": [],
      "source": [
        "from statsmodels.stats.outliers_influence import variance_inflation_factor"
      ]
    },
    {
      "cell_type": "code",
      "execution_count": null,
      "id": "7e5ed12a",
      "metadata": {
        "id": "7e5ed12a"
      },
      "outputs": [],
      "source": [
        "col_list = []\n",
        "for i in data.columns:\n",
        "    if((data[i].dtype != 'object')&(i != 'y')):\n",
        "        col_list.append(i)"
      ]
    },
    {
      "cell_type": "code",
      "execution_count": null,
      "id": "db8de639",
      "metadata": {
        "id": "db8de639",
        "outputId": "47d5ad21-0a6a-4291-8c28-5300965c238b"
      },
      "outputs": [
        {
          "data": {
            "text/plain": [
              "['age',\n",
              " 'job',\n",
              " 'marital',\n",
              " 'education',\n",
              " 'default',\n",
              " 'housing',\n",
              " 'loan',\n",
              " 'contact',\n",
              " 'month',\n",
              " 'day_of_week',\n",
              " 'duration',\n",
              " 'campaign',\n",
              " 'pdays',\n",
              " 'previous',\n",
              " 'poutcome',\n",
              " 'emp.var.rate',\n",
              " 'cons.price.idx',\n",
              " 'cons.conf.idx',\n",
              " 'euribor3m',\n",
              " 'nr.employed']"
            ]
          },
          "execution_count": 52,
          "metadata": {},
          "output_type": "execute_result"
        }
      ],
      "source": [
        "col_list"
      ]
    },
    {
      "cell_type": "code",
      "execution_count": null,
      "id": "dd5a09c7",
      "metadata": {
        "id": "dd5a09c7",
        "outputId": "48c76f98-70af-4e02-a7ed-800f2658dcc3"
      },
      "outputs": [
        {
          "name": "stderr",
          "output_type": "stream",
          "text": [
            "C:\\Users\\Admin\\anaconda3\\lib\\site-packages\\statsmodels\\regression\\linear_model.py:1715: RuntimeWarning: invalid value encountered in double_scalars\n",
            "  return 1 - self.ssr/self.centered_tss\n"
          ]
        },
        {
          "data": {
            "text/html": [
              "<div>\n",
              "<style scoped>\n",
              "    .dataframe tbody tr th:only-of-type {\n",
              "        vertical-align: middle;\n",
              "    }\n",
              "\n",
              "    .dataframe tbody tr th {\n",
              "        vertical-align: top;\n",
              "    }\n",
              "\n",
              "    .dataframe thead th {\n",
              "        text-align: right;\n",
              "    }\n",
              "</style>\n",
              "<table border=\"1\" class=\"dataframe\">\n",
              "  <thead>\n",
              "    <tr style=\"text-align: right;\">\n",
              "      <th></th>\n",
              "      <th>feature</th>\n",
              "      <th>VIF</th>\n",
              "    </tr>\n",
              "  </thead>\n",
              "  <tbody>\n",
              "    <tr>\n",
              "      <th>0</th>\n",
              "      <td>age</td>\n",
              "      <td>1.099807</td>\n",
              "    </tr>\n",
              "    <tr>\n",
              "      <th>1</th>\n",
              "      <td>job</td>\n",
              "      <td>1.025365</td>\n",
              "    </tr>\n",
              "    <tr>\n",
              "      <th>2</th>\n",
              "      <td>marital</td>\n",
              "      <td>1.095777</td>\n",
              "    </tr>\n",
              "    <tr>\n",
              "      <th>3</th>\n",
              "      <td>education</td>\n",
              "      <td>1.099320</td>\n",
              "    </tr>\n",
              "    <tr>\n",
              "      <th>4</th>\n",
              "      <td>default</td>\n",
              "      <td>1.091979</td>\n",
              "    </tr>\n",
              "    <tr>\n",
              "      <th>5</th>\n",
              "      <td>housing</td>\n",
              "      <td>1.013153</td>\n",
              "    </tr>\n",
              "    <tr>\n",
              "      <th>6</th>\n",
              "      <td>loan</td>\n",
              "      <td>1.003026</td>\n",
              "    </tr>\n",
              "    <tr>\n",
              "      <th>7</th>\n",
              "      <td>contact</td>\n",
              "      <td>2.719023</td>\n",
              "    </tr>\n",
              "    <tr>\n",
              "      <th>8</th>\n",
              "      <td>month</td>\n",
              "      <td>2.059462</td>\n",
              "    </tr>\n",
              "    <tr>\n",
              "      <th>9</th>\n",
              "      <td>day_of_week</td>\n",
              "      <td>1.010873</td>\n",
              "    </tr>\n",
              "    <tr>\n",
              "      <th>10</th>\n",
              "      <td>duration</td>\n",
              "      <td>1.011886</td>\n",
              "    </tr>\n",
              "    <tr>\n",
              "      <th>11</th>\n",
              "      <td>campaign</td>\n",
              "      <td>1.019594</td>\n",
              "    </tr>\n",
              "    <tr>\n",
              "      <th>12</th>\n",
              "      <td>pdays</td>\n",
              "      <td>771279.578772</td>\n",
              "    </tr>\n",
              "    <tr>\n",
              "      <th>13</th>\n",
              "      <td>previous</td>\n",
              "      <td>NaN</td>\n",
              "    </tr>\n",
              "    <tr>\n",
              "      <th>14</th>\n",
              "      <td>poutcome</td>\n",
              "      <td>NaN</td>\n",
              "    </tr>\n",
              "    <tr>\n",
              "      <th>15</th>\n",
              "      <td>emp.var.rate</td>\n",
              "      <td>41.960618</td>\n",
              "    </tr>\n",
              "    <tr>\n",
              "      <th>16</th>\n",
              "      <td>cons.price.idx</td>\n",
              "      <td>8.723057</td>\n",
              "    </tr>\n",
              "    <tr>\n",
              "      <th>17</th>\n",
              "      <td>cons.conf.idx</td>\n",
              "      <td>3.874895</td>\n",
              "    </tr>\n",
              "    <tr>\n",
              "      <th>18</th>\n",
              "      <td>euribor3m</td>\n",
              "      <td>88.840351</td>\n",
              "    </tr>\n",
              "    <tr>\n",
              "      <th>19</th>\n",
              "      <td>nr.employed</td>\n",
              "      <td>35.205196</td>\n",
              "    </tr>\n",
              "  </tbody>\n",
              "</table>\n",
              "</div>"
            ],
            "text/plain": [
              "           feature            VIF\n",
              "0              age       1.099807\n",
              "1              job       1.025365\n",
              "2          marital       1.095777\n",
              "3        education       1.099320\n",
              "4          default       1.091979\n",
              "5          housing       1.013153\n",
              "6             loan       1.003026\n",
              "7          contact       2.719023\n",
              "8            month       2.059462\n",
              "9      day_of_week       1.010873\n",
              "10        duration       1.011886\n",
              "11        campaign       1.019594\n",
              "12           pdays  771279.578772\n",
              "13        previous            NaN\n",
              "14        poutcome            NaN\n",
              "15    emp.var.rate      41.960618\n",
              "16  cons.price.idx       8.723057\n",
              "17   cons.conf.idx       3.874895\n",
              "18       euribor3m      88.840351\n",
              "19     nr.employed      35.205196"
            ]
          },
          "execution_count": 53,
          "metadata": {},
          "output_type": "execute_result"
        }
      ],
      "source": [
        "x = data[col_list]\n",
        "vif_data = pd.DataFrame()\n",
        "vif_data['feature'] = x.columns\n",
        "vif_data['VIF'] = [variance_inflation_factor(x.values,i) for i in range(len(x.columns))]\n",
        "vif_data"
      ]
    },
    {
      "cell_type": "code",
      "execution_count": null,
      "id": "fc230367",
      "metadata": {
        "id": "fc230367"
      },
      "outputs": [],
      "source": [
        "data = data.drop(['pdays'],axis = 1)"
      ]
    },
    {
      "cell_type": "code",
      "execution_count": null,
      "id": "ff686dce",
      "metadata": {
        "id": "ff686dce",
        "outputId": "6924c664-cbdb-4e80-b177-a04fee64c755"
      },
      "outputs": [
        {
          "name": "stderr",
          "output_type": "stream",
          "text": [
            "C:\\Users\\Admin\\anaconda3\\lib\\site-packages\\statsmodels\\regression\\linear_model.py:1717: RuntimeWarning: invalid value encountered in double_scalars\n",
            "  return 1 - self.ssr/self.uncentered_tss\n"
          ]
        },
        {
          "data": {
            "text/html": [
              "<div>\n",
              "<style scoped>\n",
              "    .dataframe tbody tr th:only-of-type {\n",
              "        vertical-align: middle;\n",
              "    }\n",
              "\n",
              "    .dataframe tbody tr th {\n",
              "        vertical-align: top;\n",
              "    }\n",
              "\n",
              "    .dataframe thead th {\n",
              "        text-align: right;\n",
              "    }\n",
              "</style>\n",
              "<table border=\"1\" class=\"dataframe\">\n",
              "  <thead>\n",
              "    <tr style=\"text-align: right;\">\n",
              "      <th></th>\n",
              "      <th>feature</th>\n",
              "      <th>VIF</th>\n",
              "    </tr>\n",
              "  </thead>\n",
              "  <tbody>\n",
              "    <tr>\n",
              "      <th>0</th>\n",
              "      <td>age</td>\n",
              "      <td>8.703249</td>\n",
              "    </tr>\n",
              "    <tr>\n",
              "      <th>1</th>\n",
              "      <td>job</td>\n",
              "      <td>2.095210</td>\n",
              "    </tr>\n",
              "    <tr>\n",
              "      <th>2</th>\n",
              "      <td>marital</td>\n",
              "      <td>5.200432</td>\n",
              "    </tr>\n",
              "    <tr>\n",
              "      <th>3</th>\n",
              "      <td>education</td>\n",
              "      <td>4.460453</td>\n",
              "    </tr>\n",
              "    <tr>\n",
              "      <th>4</th>\n",
              "      <td>default</td>\n",
              "      <td>1.410682</td>\n",
              "    </tr>\n",
              "    <tr>\n",
              "      <th>5</th>\n",
              "      <td>housing</td>\n",
              "      <td>2.192741</td>\n",
              "    </tr>\n",
              "    <tr>\n",
              "      <th>6</th>\n",
              "      <td>loan</td>\n",
              "      <td>1.208273</td>\n",
              "    </tr>\n",
              "    <tr>\n",
              "      <th>7</th>\n",
              "      <td>contact</td>\n",
              "      <td>3.589441</td>\n",
              "    </tr>\n",
              "    <tr>\n",
              "      <th>8</th>\n",
              "      <td>month</td>\n",
              "      <td>7.816661</td>\n",
              "    </tr>\n",
              "    <tr>\n",
              "      <th>9</th>\n",
              "      <td>day_of_week</td>\n",
              "      <td>3.106289</td>\n",
              "    </tr>\n",
              "    <tr>\n",
              "      <th>10</th>\n",
              "      <td>duration</td>\n",
              "      <td>3.172331</td>\n",
              "    </tr>\n",
              "    <tr>\n",
              "      <th>11</th>\n",
              "      <td>campaign</td>\n",
              "      <td>3.620814</td>\n",
              "    </tr>\n",
              "    <tr>\n",
              "      <th>12</th>\n",
              "      <td>previous</td>\n",
              "      <td>NaN</td>\n",
              "    </tr>\n",
              "    <tr>\n",
              "      <th>13</th>\n",
              "      <td>poutcome</td>\n",
              "      <td>NaN</td>\n",
              "    </tr>\n",
              "    <tr>\n",
              "      <th>14</th>\n",
              "      <td>emp.var.rate</td>\n",
              "      <td>41.972602</td>\n",
              "    </tr>\n",
              "    <tr>\n",
              "      <th>15</th>\n",
              "      <td>cons.price.idx</td>\n",
              "      <td>51258.857482</td>\n",
              "    </tr>\n",
              "    <tr>\n",
              "      <th>16</th>\n",
              "      <td>cons.conf.idx</td>\n",
              "      <td>160.349852</td>\n",
              "    </tr>\n",
              "    <tr>\n",
              "      <th>17</th>\n",
              "      <td>euribor3m</td>\n",
              "      <td>439.081684</td>\n",
              "    </tr>\n",
              "    <tr>\n",
              "      <th>18</th>\n",
              "      <td>nr.employed</td>\n",
              "      <td>58409.916876</td>\n",
              "    </tr>\n",
              "  </tbody>\n",
              "</table>\n",
              "</div>"
            ],
            "text/plain": [
              "           feature           VIF\n",
              "0              age      8.703249\n",
              "1              job      2.095210\n",
              "2          marital      5.200432\n",
              "3        education      4.460453\n",
              "4          default      1.410682\n",
              "5          housing      2.192741\n",
              "6             loan      1.208273\n",
              "7          contact      3.589441\n",
              "8            month      7.816661\n",
              "9      day_of_week      3.106289\n",
              "10        duration      3.172331\n",
              "11        campaign      3.620814\n",
              "12        previous           NaN\n",
              "13        poutcome           NaN\n",
              "14    emp.var.rate     41.972602\n",
              "15  cons.price.idx  51258.857482\n",
              "16   cons.conf.idx    160.349852\n",
              "17       euribor3m    439.081684\n",
              "18     nr.employed  58409.916876"
            ]
          },
          "execution_count": 55,
          "metadata": {},
          "output_type": "execute_result"
        }
      ],
      "source": [
        "col_list = []\n",
        "for i in data.columns:\n",
        "    if((data[i].dtype != 'object')&(i != 'y')):\n",
        "        col_list.append(i)\n",
        "        \n",
        "x = data[col_list]\n",
        "vif_data = pd.DataFrame()\n",
        "vif_data['feature'] = x.columns\n",
        "vif_data['VIF'] = [variance_inflation_factor(x.values,i) for i in range(len(x.columns))]\n",
        "vif_data"
      ]
    },
    {
      "cell_type": "code",
      "execution_count": null,
      "id": "4ce30e02",
      "metadata": {
        "id": "4ce30e02"
      },
      "outputs": [],
      "source": [
        "data = data.drop(['nr.employed'],axis = 1)"
      ]
    },
    {
      "cell_type": "code",
      "execution_count": null,
      "id": "5bb3dbe9",
      "metadata": {
        "id": "5bb3dbe9",
        "outputId": "87517b11-4dac-487f-f071-6e77b1b646d4"
      },
      "outputs": [
        {
          "name": "stderr",
          "output_type": "stream",
          "text": [
            "C:\\Users\\Admin\\anaconda3\\lib\\site-packages\\statsmodels\\regression\\linear_model.py:1717: RuntimeWarning: invalid value encountered in double_scalars\n",
            "  return 1 - self.ssr/self.uncentered_tss\n"
          ]
        },
        {
          "data": {
            "text/html": [
              "<div>\n",
              "<style scoped>\n",
              "    .dataframe tbody tr th:only-of-type {\n",
              "        vertical-align: middle;\n",
              "    }\n",
              "\n",
              "    .dataframe tbody tr th {\n",
              "        vertical-align: top;\n",
              "    }\n",
              "\n",
              "    .dataframe thead th {\n",
              "        text-align: right;\n",
              "    }\n",
              "</style>\n",
              "<table border=\"1\" class=\"dataframe\">\n",
              "  <thead>\n",
              "    <tr style=\"text-align: right;\">\n",
              "      <th></th>\n",
              "      <th>feature</th>\n",
              "      <th>VIF</th>\n",
              "    </tr>\n",
              "  </thead>\n",
              "  <tbody>\n",
              "    <tr>\n",
              "      <th>0</th>\n",
              "      <td>age</td>\n",
              "      <td>8.703184</td>\n",
              "    </tr>\n",
              "    <tr>\n",
              "      <th>1</th>\n",
              "      <td>job</td>\n",
              "      <td>2.095170</td>\n",
              "    </tr>\n",
              "    <tr>\n",
              "      <th>2</th>\n",
              "      <td>marital</td>\n",
              "      <td>5.199740</td>\n",
              "    </tr>\n",
              "    <tr>\n",
              "      <th>3</th>\n",
              "      <td>education</td>\n",
              "      <td>4.460449</td>\n",
              "    </tr>\n",
              "    <tr>\n",
              "      <th>4</th>\n",
              "      <td>default</td>\n",
              "      <td>1.409515</td>\n",
              "    </tr>\n",
              "    <tr>\n",
              "      <th>5</th>\n",
              "      <td>housing</td>\n",
              "      <td>2.192125</td>\n",
              "    </tr>\n",
              "    <tr>\n",
              "      <th>6</th>\n",
              "      <td>loan</td>\n",
              "      <td>1.208172</td>\n",
              "    </tr>\n",
              "    <tr>\n",
              "      <th>7</th>\n",
              "      <td>contact</td>\n",
              "      <td>2.749890</td>\n",
              "    </tr>\n",
              "    <tr>\n",
              "      <th>8</th>\n",
              "      <td>month</td>\n",
              "      <td>6.752041</td>\n",
              "    </tr>\n",
              "    <tr>\n",
              "      <th>9</th>\n",
              "      <td>day_of_week</td>\n",
              "      <td>3.105672</td>\n",
              "    </tr>\n",
              "    <tr>\n",
              "      <th>10</th>\n",
              "      <td>duration</td>\n",
              "      <td>3.162991</td>\n",
              "    </tr>\n",
              "    <tr>\n",
              "      <th>11</th>\n",
              "      <td>campaign</td>\n",
              "      <td>3.609144</td>\n",
              "    </tr>\n",
              "    <tr>\n",
              "      <th>12</th>\n",
              "      <td>previous</td>\n",
              "      <td>NaN</td>\n",
              "    </tr>\n",
              "    <tr>\n",
              "      <th>13</th>\n",
              "      <td>poutcome</td>\n",
              "      <td>NaN</td>\n",
              "    </tr>\n",
              "    <tr>\n",
              "      <th>14</th>\n",
              "      <td>emp.var.rate</td>\n",
              "      <td>28.400716</td>\n",
              "    </tr>\n",
              "    <tr>\n",
              "      <th>15</th>\n",
              "      <td>cons.price.idx</td>\n",
              "      <td>416.236239</td>\n",
              "    </tr>\n",
              "    <tr>\n",
              "      <th>16</th>\n",
              "      <td>cons.conf.idx</td>\n",
              "      <td>141.723179</td>\n",
              "    </tr>\n",
              "    <tr>\n",
              "      <th>17</th>\n",
              "      <td>euribor3m</td>\n",
              "      <td>203.207318</td>\n",
              "    </tr>\n",
              "  </tbody>\n",
              "</table>\n",
              "</div>"
            ],
            "text/plain": [
              "           feature         VIF\n",
              "0              age    8.703184\n",
              "1              job    2.095170\n",
              "2          marital    5.199740\n",
              "3        education    4.460449\n",
              "4          default    1.409515\n",
              "5          housing    2.192125\n",
              "6             loan    1.208172\n",
              "7          contact    2.749890\n",
              "8            month    6.752041\n",
              "9      day_of_week    3.105672\n",
              "10        duration    3.162991\n",
              "11        campaign    3.609144\n",
              "12        previous         NaN\n",
              "13        poutcome         NaN\n",
              "14    emp.var.rate   28.400716\n",
              "15  cons.price.idx  416.236239\n",
              "16   cons.conf.idx  141.723179\n",
              "17       euribor3m  203.207318"
            ]
          },
          "execution_count": 57,
          "metadata": {},
          "output_type": "execute_result"
        }
      ],
      "source": [
        "col_list = []\n",
        "for i in data.columns:\n",
        "    if((data[i].dtype != 'object')&(i != 'y')):\n",
        "        col_list.append(i)\n",
        "        \n",
        "x = data[col_list]\n",
        "vif_data = pd.DataFrame()\n",
        "vif_data['feature'] = x.columns\n",
        "vif_data['VIF'] = [variance_inflation_factor(x.values,i) for i in range(len(x.columns))]\n",
        "vif_data"
      ]
    },
    {
      "cell_type": "code",
      "execution_count": null,
      "id": "e4a82698",
      "metadata": {
        "id": "e4a82698"
      },
      "outputs": [],
      "source": [
        "data = data.drop(['cons.price.idx'],axis = 1)"
      ]
    },
    {
      "cell_type": "code",
      "execution_count": null,
      "id": "f96eebeb",
      "metadata": {
        "id": "f96eebeb",
        "outputId": "d27f50e6-91a2-47e7-b428-1077afa5cd00"
      },
      "outputs": [
        {
          "name": "stderr",
          "output_type": "stream",
          "text": [
            "C:\\Users\\Admin\\anaconda3\\lib\\site-packages\\statsmodels\\regression\\linear_model.py:1717: RuntimeWarning: invalid value encountered in double_scalars\n",
            "  return 1 - self.ssr/self.uncentered_tss\n"
          ]
        },
        {
          "data": {
            "text/html": [
              "<div>\n",
              "<style scoped>\n",
              "    .dataframe tbody tr th:only-of-type {\n",
              "        vertical-align: middle;\n",
              "    }\n",
              "\n",
              "    .dataframe tbody tr th {\n",
              "        vertical-align: top;\n",
              "    }\n",
              "\n",
              "    .dataframe thead th {\n",
              "        text-align: right;\n",
              "    }\n",
              "</style>\n",
              "<table border=\"1\" class=\"dataframe\">\n",
              "  <thead>\n",
              "    <tr style=\"text-align: right;\">\n",
              "      <th></th>\n",
              "      <th>feature</th>\n",
              "      <th>VIF</th>\n",
              "    </tr>\n",
              "  </thead>\n",
              "  <tbody>\n",
              "    <tr>\n",
              "      <th>0</th>\n",
              "      <td>age</td>\n",
              "      <td>8.404554</td>\n",
              "    </tr>\n",
              "    <tr>\n",
              "      <th>1</th>\n",
              "      <td>job</td>\n",
              "      <td>2.086249</td>\n",
              "    </tr>\n",
              "    <tr>\n",
              "      <th>2</th>\n",
              "      <td>marital</td>\n",
              "      <td>5.077423</td>\n",
              "    </tr>\n",
              "    <tr>\n",
              "      <th>3</th>\n",
              "      <td>education</td>\n",
              "      <td>4.387891</td>\n",
              "    </tr>\n",
              "    <tr>\n",
              "      <th>4</th>\n",
              "      <td>default</td>\n",
              "      <td>1.406885</td>\n",
              "    </tr>\n",
              "    <tr>\n",
              "      <th>5</th>\n",
              "      <td>housing</td>\n",
              "      <td>2.187296</td>\n",
              "    </tr>\n",
              "    <tr>\n",
              "      <th>6</th>\n",
              "      <td>loan</td>\n",
              "      <td>1.207540</td>\n",
              "    </tr>\n",
              "    <tr>\n",
              "      <th>7</th>\n",
              "      <td>contact</td>\n",
              "      <td>2.505175</td>\n",
              "    </tr>\n",
              "    <tr>\n",
              "      <th>8</th>\n",
              "      <td>month</td>\n",
              "      <td>6.414972</td>\n",
              "    </tr>\n",
              "    <tr>\n",
              "      <th>9</th>\n",
              "      <td>day_of_week</td>\n",
              "      <td>3.082770</td>\n",
              "    </tr>\n",
              "    <tr>\n",
              "      <th>10</th>\n",
              "      <td>duration</td>\n",
              "      <td>3.124116</td>\n",
              "    </tr>\n",
              "    <tr>\n",
              "      <th>11</th>\n",
              "      <td>campaign</td>\n",
              "      <td>3.572872</td>\n",
              "    </tr>\n",
              "    <tr>\n",
              "      <th>12</th>\n",
              "      <td>previous</td>\n",
              "      <td>NaN</td>\n",
              "    </tr>\n",
              "    <tr>\n",
              "      <th>13</th>\n",
              "      <td>poutcome</td>\n",
              "      <td>NaN</td>\n",
              "    </tr>\n",
              "    <tr>\n",
              "      <th>14</th>\n",
              "      <td>emp.var.rate</td>\n",
              "      <td>14.551711</td>\n",
              "    </tr>\n",
              "    <tr>\n",
              "      <th>15</th>\n",
              "      <td>cons.conf.idx</td>\n",
              "      <td>46.933933</td>\n",
              "    </tr>\n",
              "    <tr>\n",
              "      <th>16</th>\n",
              "      <td>euribor3m</td>\n",
              "      <td>83.497484</td>\n",
              "    </tr>\n",
              "  </tbody>\n",
              "</table>\n",
              "</div>"
            ],
            "text/plain": [
              "          feature        VIF\n",
              "0             age   8.404554\n",
              "1             job   2.086249\n",
              "2         marital   5.077423\n",
              "3       education   4.387891\n",
              "4         default   1.406885\n",
              "5         housing   2.187296\n",
              "6            loan   1.207540\n",
              "7         contact   2.505175\n",
              "8           month   6.414972\n",
              "9     day_of_week   3.082770\n",
              "10       duration   3.124116\n",
              "11       campaign   3.572872\n",
              "12       previous        NaN\n",
              "13       poutcome        NaN\n",
              "14   emp.var.rate  14.551711\n",
              "15  cons.conf.idx  46.933933\n",
              "16      euribor3m  83.497484"
            ]
          },
          "execution_count": 59,
          "metadata": {},
          "output_type": "execute_result"
        }
      ],
      "source": [
        "col_list = []\n",
        "for i in data.columns:\n",
        "    if((data[i].dtype != 'object')&(i != 'y')):\n",
        "        col_list.append(i)\n",
        "        \n",
        "x = data[col_list]\n",
        "vif_data = pd.DataFrame()\n",
        "vif_data['feature'] = x.columns\n",
        "vif_data['VIF'] = [variance_inflation_factor(x.values,i) for i in range(len(x.columns))]\n",
        "vif_data"
      ]
    },
    {
      "cell_type": "code",
      "execution_count": null,
      "id": "5c8d9919",
      "metadata": {
        "id": "5c8d9919"
      },
      "outputs": [],
      "source": [
        "data = data.drop(['euribor3m'],axis = 1)"
      ]
    },
    {
      "cell_type": "code",
      "execution_count": null,
      "id": "3d229efb",
      "metadata": {
        "id": "3d229efb",
        "outputId": "8bdb96ef-1bfb-4e4f-f65b-e550968e6fcd"
      },
      "outputs": [
        {
          "name": "stderr",
          "output_type": "stream",
          "text": [
            "C:\\Users\\Admin\\anaconda3\\lib\\site-packages\\statsmodels\\regression\\linear_model.py:1717: RuntimeWarning: invalid value encountered in double_scalars\n",
            "  return 1 - self.ssr/self.uncentered_tss\n"
          ]
        },
        {
          "data": {
            "text/html": [
              "<div>\n",
              "<style scoped>\n",
              "    .dataframe tbody tr th:only-of-type {\n",
              "        vertical-align: middle;\n",
              "    }\n",
              "\n",
              "    .dataframe tbody tr th {\n",
              "        vertical-align: top;\n",
              "    }\n",
              "\n",
              "    .dataframe thead th {\n",
              "        text-align: right;\n",
              "    }\n",
              "</style>\n",
              "<table border=\"1\" class=\"dataframe\">\n",
              "  <thead>\n",
              "    <tr style=\"text-align: right;\">\n",
              "      <th></th>\n",
              "      <th>feature</th>\n",
              "      <th>VIF</th>\n",
              "    </tr>\n",
              "  </thead>\n",
              "  <tbody>\n",
              "    <tr>\n",
              "      <th>0</th>\n",
              "      <td>age</td>\n",
              "      <td>7.809775</td>\n",
              "    </tr>\n",
              "    <tr>\n",
              "      <th>1</th>\n",
              "      <td>job</td>\n",
              "      <td>2.075524</td>\n",
              "    </tr>\n",
              "    <tr>\n",
              "      <th>2</th>\n",
              "      <td>marital</td>\n",
              "      <td>4.973142</td>\n",
              "    </tr>\n",
              "    <tr>\n",
              "      <th>3</th>\n",
              "      <td>education</td>\n",
              "      <td>4.199148</td>\n",
              "    </tr>\n",
              "    <tr>\n",
              "      <th>4</th>\n",
              "      <td>default</td>\n",
              "      <td>1.406715</td>\n",
              "    </tr>\n",
              "    <tr>\n",
              "      <th>5</th>\n",
              "      <td>housing</td>\n",
              "      <td>2.176803</td>\n",
              "    </tr>\n",
              "    <tr>\n",
              "      <th>6</th>\n",
              "      <td>loan</td>\n",
              "      <td>1.207275</td>\n",
              "    </tr>\n",
              "    <tr>\n",
              "      <th>7</th>\n",
              "      <td>contact</td>\n",
              "      <td>2.495454</td>\n",
              "    </tr>\n",
              "    <tr>\n",
              "      <th>8</th>\n",
              "      <td>month</td>\n",
              "      <td>5.782796</td>\n",
              "    </tr>\n",
              "    <tr>\n",
              "      <th>9</th>\n",
              "      <td>day_of_week</td>\n",
              "      <td>3.034532</td>\n",
              "    </tr>\n",
              "    <tr>\n",
              "      <th>10</th>\n",
              "      <td>duration</td>\n",
              "      <td>3.098536</td>\n",
              "    </tr>\n",
              "    <tr>\n",
              "      <th>11</th>\n",
              "      <td>campaign</td>\n",
              "      <td>3.565275</td>\n",
              "    </tr>\n",
              "    <tr>\n",
              "      <th>12</th>\n",
              "      <td>previous</td>\n",
              "      <td>NaN</td>\n",
              "    </tr>\n",
              "    <tr>\n",
              "      <th>13</th>\n",
              "      <td>poutcome</td>\n",
              "      <td>NaN</td>\n",
              "    </tr>\n",
              "    <tr>\n",
              "      <th>14</th>\n",
              "      <td>emp.var.rate</td>\n",
              "      <td>1.409649</td>\n",
              "    </tr>\n",
              "    <tr>\n",
              "      <th>15</th>\n",
              "      <td>cons.conf.idx</td>\n",
              "      <td>23.712409</td>\n",
              "    </tr>\n",
              "  </tbody>\n",
              "</table>\n",
              "</div>"
            ],
            "text/plain": [
              "          feature        VIF\n",
              "0             age   7.809775\n",
              "1             job   2.075524\n",
              "2         marital   4.973142\n",
              "3       education   4.199148\n",
              "4         default   1.406715\n",
              "5         housing   2.176803\n",
              "6            loan   1.207275\n",
              "7         contact   2.495454\n",
              "8           month   5.782796\n",
              "9     day_of_week   3.034532\n",
              "10       duration   3.098536\n",
              "11       campaign   3.565275\n",
              "12       previous        NaN\n",
              "13       poutcome        NaN\n",
              "14   emp.var.rate   1.409649\n",
              "15  cons.conf.idx  23.712409"
            ]
          },
          "execution_count": 61,
          "metadata": {},
          "output_type": "execute_result"
        }
      ],
      "source": [
        "col_list = []\n",
        "for i in data.columns:\n",
        "    if((data[i].dtype != 'object')&(i != 'y')):\n",
        "        col_list.append(i)\n",
        "        \n",
        "x = data[col_list]\n",
        "vif_data = pd.DataFrame()\n",
        "vif_data['feature'] = x.columns\n",
        "vif_data['VIF'] = [variance_inflation_factor(x.values,i) for i in range(len(x.columns))]\n",
        "vif_data"
      ]
    },
    {
      "cell_type": "code",
      "execution_count": null,
      "id": "1937d86d",
      "metadata": {
        "id": "1937d86d"
      },
      "outputs": [],
      "source": [
        "data = data.drop(['cons.conf.idx'],axis = 1)"
      ]
    },
    {
      "cell_type": "code",
      "execution_count": null,
      "id": "4a5a6137",
      "metadata": {
        "id": "4a5a6137",
        "outputId": "1f23cd7c-aa5a-486c-d027-c46d8f8a1a2f"
      },
      "outputs": [
        {
          "name": "stderr",
          "output_type": "stream",
          "text": [
            "C:\\Users\\Admin\\anaconda3\\lib\\site-packages\\statsmodels\\regression\\linear_model.py:1717: RuntimeWarning: invalid value encountered in double_scalars\n",
            "  return 1 - self.ssr/self.uncentered_tss\n"
          ]
        },
        {
          "data": {
            "text/html": [
              "<div>\n",
              "<style scoped>\n",
              "    .dataframe tbody tr th:only-of-type {\n",
              "        vertical-align: middle;\n",
              "    }\n",
              "\n",
              "    .dataframe tbody tr th {\n",
              "        vertical-align: top;\n",
              "    }\n",
              "\n",
              "    .dataframe thead th {\n",
              "        text-align: right;\n",
              "    }\n",
              "</style>\n",
              "<table border=\"1\" class=\"dataframe\">\n",
              "  <thead>\n",
              "    <tr style=\"text-align: right;\">\n",
              "      <th></th>\n",
              "      <th>feature</th>\n",
              "      <th>VIF</th>\n",
              "    </tr>\n",
              "  </thead>\n",
              "  <tbody>\n",
              "    <tr>\n",
              "      <th>0</th>\n",
              "      <td>age</td>\n",
              "      <td>5.885356</td>\n",
              "    </tr>\n",
              "    <tr>\n",
              "      <th>1</th>\n",
              "      <td>job</td>\n",
              "      <td>2.048867</td>\n",
              "    </tr>\n",
              "    <tr>\n",
              "      <th>2</th>\n",
              "      <td>marital</td>\n",
              "      <td>4.109692</td>\n",
              "    </tr>\n",
              "    <tr>\n",
              "      <th>3</th>\n",
              "      <td>education</td>\n",
              "      <td>3.947833</td>\n",
              "    </tr>\n",
              "    <tr>\n",
              "      <th>4</th>\n",
              "      <td>default</td>\n",
              "      <td>1.396176</td>\n",
              "    </tr>\n",
              "    <tr>\n",
              "      <th>5</th>\n",
              "      <td>housing</td>\n",
              "      <td>2.109109</td>\n",
              "    </tr>\n",
              "    <tr>\n",
              "      <th>6</th>\n",
              "      <td>loan</td>\n",
              "      <td>1.202249</td>\n",
              "    </tr>\n",
              "    <tr>\n",
              "      <th>7</th>\n",
              "      <td>contact</td>\n",
              "      <td>2.482859</td>\n",
              "    </tr>\n",
              "    <tr>\n",
              "      <th>8</th>\n",
              "      <td>month</td>\n",
              "      <td>5.136100</td>\n",
              "    </tr>\n",
              "    <tr>\n",
              "      <th>9</th>\n",
              "      <td>day_of_week</td>\n",
              "      <td>2.893672</td>\n",
              "    </tr>\n",
              "    <tr>\n",
              "      <th>10</th>\n",
              "      <td>duration</td>\n",
              "      <td>2.925070</td>\n",
              "    </tr>\n",
              "    <tr>\n",
              "      <th>11</th>\n",
              "      <td>campaign</td>\n",
              "      <td>3.253652</td>\n",
              "    </tr>\n",
              "    <tr>\n",
              "      <th>12</th>\n",
              "      <td>previous</td>\n",
              "      <td>NaN</td>\n",
              "    </tr>\n",
              "    <tr>\n",
              "      <th>13</th>\n",
              "      <td>poutcome</td>\n",
              "      <td>NaN</td>\n",
              "    </tr>\n",
              "    <tr>\n",
              "      <th>14</th>\n",
              "      <td>emp.var.rate</td>\n",
              "      <td>1.405942</td>\n",
              "    </tr>\n",
              "  </tbody>\n",
              "</table>\n",
              "</div>"
            ],
            "text/plain": [
              "         feature       VIF\n",
              "0            age  5.885356\n",
              "1            job  2.048867\n",
              "2        marital  4.109692\n",
              "3      education  3.947833\n",
              "4        default  1.396176\n",
              "5        housing  2.109109\n",
              "6           loan  1.202249\n",
              "7        contact  2.482859\n",
              "8          month  5.136100\n",
              "9    day_of_week  2.893672\n",
              "10      duration  2.925070\n",
              "11      campaign  3.253652\n",
              "12      previous       NaN\n",
              "13      poutcome       NaN\n",
              "14  emp.var.rate  1.405942"
            ]
          },
          "execution_count": 63,
          "metadata": {},
          "output_type": "execute_result"
        }
      ],
      "source": [
        "col_list = []\n",
        "for i in data.columns:\n",
        "    if((data[i].dtype != 'object')&(i != 'y')):\n",
        "        col_list.append(i)\n",
        "        \n",
        "x = data[col_list]\n",
        "vif_data = pd.DataFrame()\n",
        "vif_data['feature'] = x.columns\n",
        "vif_data['VIF'] = [variance_inflation_factor(x.values,i) for i in range(len(x.columns))]\n",
        "vif_data"
      ]
    },
    {
      "cell_type": "code",
      "execution_count": null,
      "id": "86f28a0e",
      "metadata": {
        "id": "86f28a0e"
      },
      "outputs": [],
      "source": [
        "data = data.drop(['previous','poutcome'],axis = 1)"
      ]
    },
    {
      "cell_type": "code",
      "execution_count": null,
      "id": "d700f2b4",
      "metadata": {
        "id": "d700f2b4",
        "outputId": "9264742b-ef6f-4d11-c427-8e9336f63570"
      },
      "outputs": [
        {
          "data": {
            "text/html": [
              "<div>\n",
              "<style scoped>\n",
              "    .dataframe tbody tr th:only-of-type {\n",
              "        vertical-align: middle;\n",
              "    }\n",
              "\n",
              "    .dataframe tbody tr th {\n",
              "        vertical-align: top;\n",
              "    }\n",
              "\n",
              "    .dataframe thead th {\n",
              "        text-align: right;\n",
              "    }\n",
              "</style>\n",
              "<table border=\"1\" class=\"dataframe\">\n",
              "  <thead>\n",
              "    <tr style=\"text-align: right;\">\n",
              "      <th></th>\n",
              "      <th>feature</th>\n",
              "      <th>VIF</th>\n",
              "    </tr>\n",
              "  </thead>\n",
              "  <tbody>\n",
              "    <tr>\n",
              "      <th>0</th>\n",
              "      <td>age</td>\n",
              "      <td>5.885356</td>\n",
              "    </tr>\n",
              "    <tr>\n",
              "      <th>1</th>\n",
              "      <td>job</td>\n",
              "      <td>2.048867</td>\n",
              "    </tr>\n",
              "    <tr>\n",
              "      <th>2</th>\n",
              "      <td>marital</td>\n",
              "      <td>4.109692</td>\n",
              "    </tr>\n",
              "    <tr>\n",
              "      <th>3</th>\n",
              "      <td>education</td>\n",
              "      <td>3.947833</td>\n",
              "    </tr>\n",
              "    <tr>\n",
              "      <th>4</th>\n",
              "      <td>default</td>\n",
              "      <td>1.396176</td>\n",
              "    </tr>\n",
              "    <tr>\n",
              "      <th>5</th>\n",
              "      <td>housing</td>\n",
              "      <td>2.109109</td>\n",
              "    </tr>\n",
              "    <tr>\n",
              "      <th>6</th>\n",
              "      <td>loan</td>\n",
              "      <td>1.202249</td>\n",
              "    </tr>\n",
              "    <tr>\n",
              "      <th>7</th>\n",
              "      <td>contact</td>\n",
              "      <td>2.482859</td>\n",
              "    </tr>\n",
              "    <tr>\n",
              "      <th>8</th>\n",
              "      <td>month</td>\n",
              "      <td>5.136100</td>\n",
              "    </tr>\n",
              "    <tr>\n",
              "      <th>9</th>\n",
              "      <td>day_of_week</td>\n",
              "      <td>2.893672</td>\n",
              "    </tr>\n",
              "    <tr>\n",
              "      <th>10</th>\n",
              "      <td>duration</td>\n",
              "      <td>2.925070</td>\n",
              "    </tr>\n",
              "    <tr>\n",
              "      <th>11</th>\n",
              "      <td>campaign</td>\n",
              "      <td>3.253652</td>\n",
              "    </tr>\n",
              "    <tr>\n",
              "      <th>12</th>\n",
              "      <td>emp.var.rate</td>\n",
              "      <td>1.405942</td>\n",
              "    </tr>\n",
              "  </tbody>\n",
              "</table>\n",
              "</div>"
            ],
            "text/plain": [
              "         feature       VIF\n",
              "0            age  5.885356\n",
              "1            job  2.048867\n",
              "2        marital  4.109692\n",
              "3      education  3.947833\n",
              "4        default  1.396176\n",
              "5        housing  2.109109\n",
              "6           loan  1.202249\n",
              "7        contact  2.482859\n",
              "8          month  5.136100\n",
              "9    day_of_week  2.893672\n",
              "10      duration  2.925070\n",
              "11      campaign  3.253652\n",
              "12  emp.var.rate  1.405942"
            ]
          },
          "execution_count": 65,
          "metadata": {},
          "output_type": "execute_result"
        }
      ],
      "source": [
        "col_list = []\n",
        "for i in data.columns:\n",
        "    if((data[i].dtype != 'object')&(i != 'y')):\n",
        "        col_list.append(i)\n",
        "        \n",
        "x = data[col_list]\n",
        "vif_data = pd.DataFrame()\n",
        "vif_data['feature'] = x.columns\n",
        "vif_data['VIF'] = [variance_inflation_factor(x.values,i) for i in range(len(x.columns))]\n",
        "vif_data"
      ]
    },
    {
      "cell_type": "code",
      "execution_count": null,
      "id": "502a7d78",
      "metadata": {
        "id": "502a7d78"
      },
      "outputs": [],
      "source": [
        "#Model Building"
      ]
    },
    {
      "cell_type": "code",
      "execution_count": null,
      "id": "04220a4f",
      "metadata": {
        "id": "04220a4f"
      },
      "outputs": [],
      "source": [
        "x = pd.DataFrame(data[vif_data.feature])\n",
        "y = data.y"
      ]
    },
    {
      "cell_type": "code",
      "execution_count": null,
      "id": "a04900cc",
      "metadata": {
        "id": "a04900cc"
      },
      "outputs": [],
      "source": [
        "#train test split\n",
        "from sklearn.model_selection import train_test_split\n",
        "x_train,x_test,y_train,y_test = train_test_split(x,y,train_size = 0.8,random_state = 0)"
      ]
    },
    {
      "cell_type": "code",
      "execution_count": null,
      "id": "c994de3c",
      "metadata": {
        "id": "c994de3c",
        "outputId": "39146d5d-86c8-4601-a16a-bd6886567047"
      },
      "outputs": [
        {
          "data": {
            "text/plain": [
              "(24288, 13)"
            ]
          },
          "execution_count": 69,
          "metadata": {},
          "output_type": "execute_result"
        }
      ],
      "source": [
        "x_train.shape"
      ]
    },
    {
      "cell_type": "code",
      "execution_count": null,
      "id": "6e07c958",
      "metadata": {
        "id": "6e07c958",
        "outputId": "5bc9bda4-d7df-42c8-f424-556fafa069e6"
      },
      "outputs": [
        {
          "data": {
            "text/plain": [
              "(6072, 13)"
            ]
          },
          "execution_count": 70,
          "metadata": {},
          "output_type": "execute_result"
        }
      ],
      "source": [
        "x_test.shape"
      ]
    },
    {
      "cell_type": "code",
      "execution_count": null,
      "id": "5d571c57",
      "metadata": {
        "id": "5d571c57",
        "outputId": "4308543e-9409-44ae-80a3-522f61e86d1c"
      },
      "outputs": [
        {
          "data": {
            "text/html": [
              "<div>\n",
              "<style scoped>\n",
              "    .dataframe tbody tr th:only-of-type {\n",
              "        vertical-align: middle;\n",
              "    }\n",
              "\n",
              "    .dataframe tbody tr th {\n",
              "        vertical-align: top;\n",
              "    }\n",
              "\n",
              "    .dataframe thead th {\n",
              "        text-align: right;\n",
              "    }\n",
              "</style>\n",
              "<table border=\"1\" class=\"dataframe\">\n",
              "  <thead>\n",
              "    <tr style=\"text-align: right;\">\n",
              "      <th></th>\n",
              "      <th>age</th>\n",
              "      <th>job</th>\n",
              "      <th>marital</th>\n",
              "      <th>education</th>\n",
              "      <th>default</th>\n",
              "      <th>housing</th>\n",
              "      <th>loan</th>\n",
              "      <th>contact</th>\n",
              "      <th>month</th>\n",
              "      <th>day_of_week</th>\n",
              "      <th>duration</th>\n",
              "      <th>campaign</th>\n",
              "      <th>emp.var.rate</th>\n",
              "    </tr>\n",
              "  </thead>\n",
              "  <tbody>\n",
              "    <tr>\n",
              "      <th>14109</th>\n",
              "      <td>1</td>\n",
              "      <td>2</td>\n",
              "      <td>1</td>\n",
              "      <td>6</td>\n",
              "      <td>1</td>\n",
              "      <td>0</td>\n",
              "      <td>0</td>\n",
              "      <td>0</td>\n",
              "      <td>3</td>\n",
              "      <td>1</td>\n",
              "      <td>97.0</td>\n",
              "      <td>2.0</td>\n",
              "      <td>1.4</td>\n",
              "    </tr>\n",
              "    <tr>\n",
              "      <th>14305</th>\n",
              "      <td>1</td>\n",
              "      <td>0</td>\n",
              "      <td>1</td>\n",
              "      <td>3</td>\n",
              "      <td>0</td>\n",
              "      <td>0</td>\n",
              "      <td>0</td>\n",
              "      <td>0</td>\n",
              "      <td>3</td>\n",
              "      <td>1</td>\n",
              "      <td>81.0</td>\n",
              "      <td>3.0</td>\n",
              "      <td>1.4</td>\n",
              "    </tr>\n",
              "    <tr>\n",
              "      <th>25648</th>\n",
              "      <td>1</td>\n",
              "      <td>0</td>\n",
              "      <td>1</td>\n",
              "      <td>6</td>\n",
              "      <td>0</td>\n",
              "      <td>2</td>\n",
              "      <td>0</td>\n",
              "      <td>0</td>\n",
              "      <td>7</td>\n",
              "      <td>4</td>\n",
              "      <td>94.0</td>\n",
              "      <td>1.0</td>\n",
              "      <td>-0.1</td>\n",
              "    </tr>\n",
              "    <tr>\n",
              "      <th>31748</th>\n",
              "      <td>1</td>\n",
              "      <td>1</td>\n",
              "      <td>1</td>\n",
              "      <td>0</td>\n",
              "      <td>0</td>\n",
              "      <td>2</td>\n",
              "      <td>2</td>\n",
              "      <td>0</td>\n",
              "      <td>6</td>\n",
              "      <td>2</td>\n",
              "      <td>195.0</td>\n",
              "      <td>1.0</td>\n",
              "      <td>-1.8</td>\n",
              "    </tr>\n",
              "    <tr>\n",
              "      <th>23467</th>\n",
              "      <td>1</td>\n",
              "      <td>9</td>\n",
              "      <td>1</td>\n",
              "      <td>5</td>\n",
              "      <td>1</td>\n",
              "      <td>2</td>\n",
              "      <td>0</td>\n",
              "      <td>0</td>\n",
              "      <td>1</td>\n",
              "      <td>4</td>\n",
              "      <td>145.0</td>\n",
              "      <td>2.0</td>\n",
              "      <td>1.4</td>\n",
              "    </tr>\n",
              "  </tbody>\n",
              "</table>\n",
              "</div>"
            ],
            "text/plain": [
              "       age  job  marital  education  default  housing  loan  contact  month  \\\n",
              "14109    1    2        1          6        1        0     0        0      3   \n",
              "14305    1    0        1          3        0        0     0        0      3   \n",
              "25648    1    0        1          6        0        2     0        0      7   \n",
              "31748    1    1        1          0        0        2     2        0      6   \n",
              "23467    1    9        1          5        1        2     0        0      1   \n",
              "\n",
              "       day_of_week  duration  campaign  emp.var.rate  \n",
              "14109            1      97.0       2.0           1.4  \n",
              "14305            1      81.0       3.0           1.4  \n",
              "25648            4      94.0       1.0          -0.1  \n",
              "31748            2     195.0       1.0          -1.8  \n",
              "23467            4     145.0       2.0           1.4  "
            ]
          },
          "execution_count": 71,
          "metadata": {},
          "output_type": "execute_result"
        }
      ],
      "source": [
        "x_train.head()"
      ]
    },
    {
      "cell_type": "code",
      "execution_count": null,
      "id": "32f69994",
      "metadata": {
        "id": "32f69994",
        "outputId": "cd6bf9c4-fd34-4880-90b7-474f01569f25"
      },
      "outputs": [
        {
          "data": {
            "text/plain": [
              "0    28705\n",
              "1     1655\n",
              "Name: y, dtype: int64"
            ]
          },
          "execution_count": 72,
          "metadata": {},
          "output_type": "execute_result"
        }
      ],
      "source": [
        "y.value_counts()"
      ]
    },
    {
      "cell_type": "code",
      "execution_count": null,
      "id": "dd5f4043",
      "metadata": {
        "id": "dd5f4043"
      },
      "outputs": [],
      "source": [
        "#Model Fitting"
      ]
    },
    {
      "cell_type": "code",
      "execution_count": null,
      "id": "6b17273d",
      "metadata": {
        "id": "6b17273d"
      },
      "outputs": [],
      "source": [
        "from sklearn.linear_model import LogisticRegression"
      ]
    },
    {
      "cell_type": "code",
      "execution_count": null,
      "id": "92d62aed",
      "metadata": {
        "id": "92d62aed"
      },
      "outputs": [],
      "source": [
        "logmodel  = LogisticRegression()"
      ]
    },
    {
      "cell_type": "code",
      "execution_count": null,
      "id": "5dc450b1",
      "metadata": {
        "id": "5dc450b1",
        "outputId": "6cb0f1e9-3c62-45ea-fde5-ed3c192a29bf"
      },
      "outputs": [
        {
          "name": "stderr",
          "output_type": "stream",
          "text": [
            "C:\\Users\\Admin\\anaconda3\\lib\\site-packages\\sklearn\\linear_model\\_logistic.py:763: ConvergenceWarning: lbfgs failed to converge (status=1):\n",
            "STOP: TOTAL NO. of ITERATIONS REACHED LIMIT.\n",
            "\n",
            "Increase the number of iterations (max_iter) or scale the data as shown in:\n",
            "    https://scikit-learn.org/stable/modules/preprocessing.html\n",
            "Please also refer to the documentation for alternative solver options:\n",
            "    https://scikit-learn.org/stable/modules/linear_model.html#logistic-regression\n",
            "  n_iter_i = _check_optimize_result(\n"
          ]
        },
        {
          "data": {
            "text/plain": [
              "LogisticRegression()"
            ]
          },
          "execution_count": 76,
          "metadata": {},
          "output_type": "execute_result"
        }
      ],
      "source": [
        "logmodel.fit(x_train,y_train)"
      ]
    },
    {
      "cell_type": "code",
      "execution_count": null,
      "id": "c632c99b",
      "metadata": {
        "id": "c632c99b"
      },
      "outputs": [],
      "source": [
        "pred = logmodel.predict(x_test)"
      ]
    },
    {
      "cell_type": "code",
      "execution_count": null,
      "id": "3ecf5f80",
      "metadata": {
        "id": "3ecf5f80"
      },
      "outputs": [],
      "source": [
        "#accuracy\n",
        "from sklearn.metrics import confusion_matrix, accuracy_score"
      ]
    },
    {
      "cell_type": "code",
      "execution_count": null,
      "id": "630bcf66",
      "metadata": {
        "id": "630bcf66",
        "outputId": "15debf6a-a97a-434a-8c91-c14ab0cb5407"
      },
      "outputs": [
        {
          "data": {
            "text/plain": [
              "0.9430171277997365"
            ]
          },
          "execution_count": 80,
          "metadata": {},
          "output_type": "execute_result"
        }
      ],
      "source": [
        "accuracy_score(y_test,pred)"
      ]
    },
    {
      "cell_type": "code",
      "execution_count": null,
      "id": "f2dcb294",
      "metadata": {
        "id": "f2dcb294",
        "outputId": "281d4199-cd2f-42fc-de72-15733e5419ea"
      },
      "outputs": [
        {
          "data": {
            "text/plain": [
              "array([[5679,   71],\n",
              "       [ 275,   47]], dtype=int64)"
            ]
          },
          "execution_count": 81,
          "metadata": {},
          "output_type": "execute_result"
        }
      ],
      "source": [
        "confusion_matrix(y_test,pred)"
      ]
    },
    {
      "cell_type": "code",
      "execution_count": null,
      "id": "da267797",
      "metadata": {
        "id": "da267797",
        "outputId": "b6444ae3-42b1-4e66-cd73-55f5c1871c87"
      },
      "outputs": [
        {
          "data": {
            "text/plain": [
              "0.980566534914361"
            ]
          },
          "execution_count": 83,
          "metadata": {},
          "output_type": "execute_result"
        }
      ],
      "source": [
        "(5679+275)/(5679+71+275+47)"
      ]
    },
    {
      "cell_type": "markdown",
      "id": "7d191a80",
      "metadata": {
        "id": "7d191a80"
      },
      "source": [
        "#1,0,1,0,0,1,1,1,0,1 : predicted\n",
        "#0,1,0,1,1,0,1,1,0,1 : result\n",
        "[1 2]\n",
        "[3 4]\n",
        "1 : +1 if pred -> 0 , result  -> 0\n",
        "2 : +1 if pred -> 0 , result  -> 1\n",
        "3 : +1 if pred -> 1 , result  -> 0\n",
        "4 : +1 if pred -> 1 , result  -> 1\n",
        "[1 3]\n",
        "[3 3]\n",
        "\n",
        "(1 + 4) / (1+2+3+4)"
      ]
    },
    {
      "cell_type": "code",
      "execution_count": null,
      "id": "de784886",
      "metadata": {
        "id": "de784886"
      },
      "outputs": [],
      "source": []
    },
    {
      "cell_type": "code",
      "execution_count": null,
      "id": "7fbcda6a",
      "metadata": {
        "id": "7fbcda6a"
      },
      "outputs": [],
      "source": []
    },
    {
      "cell_type": "code",
      "execution_count": null,
      "id": "af9442f4",
      "metadata": {
        "id": "af9442f4"
      },
      "outputs": [],
      "source": []
    },
    {
      "cell_type": "code",
      "execution_count": null,
      "id": "6f643b1c",
      "metadata": {
        "id": "6f643b1c"
      },
      "outputs": [],
      "source": []
    }
  ],
  "metadata": {
    "kernelspec": {
      "display_name": "Python 3",
      "language": "python",
      "name": "python3"
    },
    "language_info": {
      "codemirror_mode": {
        "name": "ipython",
        "version": 3
      },
      "file_extension": ".py",
      "mimetype": "text/x-python",
      "name": "python",
      "nbconvert_exporter": "python",
      "pygments_lexer": "ipython3",
      "version": "3.8.8"
    },
    "colab": {
      "provenance": []
    }
  },
  "nbformat": 4,
  "nbformat_minor": 5
}